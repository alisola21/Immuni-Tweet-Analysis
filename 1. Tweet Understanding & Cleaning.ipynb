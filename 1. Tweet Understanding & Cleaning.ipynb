{
 "cells": [
  {
   "cell_type": "markdown",
   "id": "f9c33dc9",
   "metadata": {},
   "source": [
    "# Data understanding\n",
    "\n",
    "- Analisi del dataset (apertura, analisi della tipologia di attributi ecc.)\n",
    "- Analisi delle variabili"
   ]
  },
  {
   "cell_type": "code",
   "execution_count": 1,
   "id": "67d36f7d",
   "metadata": {},
   "outputs": [
    {
     "name": "stdout",
     "output_type": "stream",
     "text": [
      "Requirement already satisfied: textblob in c:\\users\\aliis\\anaconda3\\lib\\site-packages (0.17.1)\n",
      "Requirement already satisfied: nltk>=3.1 in c:\\users\\aliis\\anaconda3\\lib\\site-packages (from textblob) (3.6.5)\n",
      "Requirement already satisfied: click in c:\\users\\aliis\\anaconda3\\lib\\site-packages (from nltk>=3.1->textblob) (7.1.2)\n",
      "Requirement already satisfied: joblib in c:\\users\\aliis\\anaconda3\\lib\\site-packages (from nltk>=3.1->textblob) (1.1.0)\n",
      "Requirement already satisfied: regex>=2021.8.3 in c:\\users\\aliis\\anaconda3\\lib\\site-packages (from nltk>=3.1->textblob) (2021.8.3)\n",
      "Requirement already satisfied: tqdm in c:\\users\\aliis\\anaconda3\\lib\\site-packages (from nltk>=3.1->textblob) (4.62.3)\n",
      "Requirement already satisfied: colorama in c:\\users\\aliis\\anaconda3\\lib\\site-packages (from tqdm->nltk>=3.1->textblob) (0.4.4)\n",
      "Requirement already satisfied: wordcloud in c:\\users\\aliis\\anaconda3\\lib\\site-packages (1.8.1)\n",
      "Requirement already satisfied: pillow in c:\\users\\aliis\\anaconda3\\lib\\site-packages (from wordcloud) (8.4.0)\n",
      "Requirement already satisfied: numpy>=1.6.1 in c:\\users\\aliis\\anaconda3\\lib\\site-packages (from wordcloud) (1.20.3)\n",
      "Requirement already satisfied: matplotlib in c:\\users\\aliis\\anaconda3\\lib\\site-packages (from wordcloud) (3.4.3)\n",
      "Requirement already satisfied: python-dateutil>=2.7 in c:\\users\\aliis\\anaconda3\\lib\\site-packages (from matplotlib->wordcloud) (2.8.2)\n",
      "Requirement already satisfied: cycler>=0.10 in c:\\users\\aliis\\anaconda3\\lib\\site-packages (from matplotlib->wordcloud) (0.10.0)\n",
      "Requirement already satisfied: kiwisolver>=1.0.1 in c:\\users\\aliis\\anaconda3\\lib\\site-packages (from matplotlib->wordcloud) (1.3.1)\n",
      "Requirement already satisfied: pyparsing>=2.2.1 in c:\\users\\aliis\\anaconda3\\lib\\site-packages (from matplotlib->wordcloud) (3.0.4)\n",
      "Requirement already satisfied: six in c:\\users\\aliis\\anaconda3\\lib\\site-packages (from cycler>=0.10->matplotlib->wordcloud) (1.16.0)\n",
      "Requirement already satisfied: plotly in c:\\users\\aliis\\anaconda3\\lib\\site-packages (5.8.0)\n",
      "Requirement already satisfied: tenacity>=6.2.0 in c:\\users\\aliis\\anaconda3\\lib\\site-packages (from plotly) (8.0.1)\n",
      "Requirement already satisfied: wordninja in c:\\users\\aliis\\anaconda3\\lib\\site-packages (2.0.0)\n",
      "Requirement already satisfied: pyspellchecker in c:\\users\\aliis\\anaconda3\\lib\\site-packages (0.6.3)\n",
      "Requirement already satisfied: kaleido in c:\\users\\aliis\\anaconda3\\lib\\site-packages (0.2.1)\n",
      "Requirement already satisfied: vaderSentiment in c:\\users\\aliis\\anaconda3\\lib\\site-packages (3.3.2)\n",
      "Requirement already satisfied: requests in c:\\users\\aliis\\anaconda3\\lib\\site-packages (from vaderSentiment) (2.26.0)\n",
      "Requirement already satisfied: charset-normalizer~=2.0.0 in c:\\users\\aliis\\anaconda3\\lib\\site-packages (from requests->vaderSentiment) (2.0.4)\n",
      "Requirement already satisfied: certifi>=2017.4.17 in c:\\users\\aliis\\anaconda3\\lib\\site-packages (from requests->vaderSentiment) (2021.10.8)\n",
      "Requirement already satisfied: idna<4,>=2.5 in c:\\users\\aliis\\anaconda3\\lib\\site-packages (from requests->vaderSentiment) (3.2)\n",
      "Requirement already satisfied: urllib3<1.27,>=1.21.1 in c:\\users\\aliis\\anaconda3\\lib\\site-packages (from requests->vaderSentiment) (1.26.7)\n",
      "Requirement already satisfied: feel-it in c:\\users\\aliis\\anaconda3\\lib\\site-packages (1.0.3)\n",
      "Requirement already satisfied: torch>=1.6.0 in c:\\users\\aliis\\anaconda3\\lib\\site-packages (from feel-it) (1.11.0)\n",
      "Requirement already satisfied: numpy in c:\\users\\aliis\\anaconda3\\lib\\site-packages (from feel-it) (1.20.3)\n",
      "Collecting transformers==4.3.3\n",
      "  Using cached transformers-4.3.3-py3-none-any.whl (1.9 MB)\n",
      "Requirement already satisfied: regex!=2019.12.17 in c:\\users\\aliis\\anaconda3\\lib\\site-packages (from transformers==4.3.3->feel-it) (2021.8.3)\n",
      "Requirement already satisfied: filelock in c:\\users\\aliis\\anaconda3\\lib\\site-packages (from transformers==4.3.3->feel-it) (3.3.1)\n",
      "Requirement already satisfied: requests in c:\\users\\aliis\\anaconda3\\lib\\site-packages (from transformers==4.3.3->feel-it) (2.26.0)\n",
      "Requirement already satisfied: packaging in c:\\users\\aliis\\anaconda3\\lib\\site-packages (from transformers==4.3.3->feel-it) (21.0)\n",
      "Requirement already satisfied: sacremoses in c:\\users\\aliis\\anaconda3\\lib\\site-packages (from transformers==4.3.3->feel-it) (0.0.53)\n",
      "Requirement already satisfied: tqdm>=4.27 in c:\\users\\aliis\\anaconda3\\lib\\site-packages (from transformers==4.3.3->feel-it) (4.62.3)\n",
      "Collecting tokenizers<0.11,>=0.10.1\n",
      "  Using cached tokenizers-0.10.3-cp39-cp39-win_amd64.whl (2.0 MB)\n",
      "Requirement already satisfied: typing-extensions in c:\\users\\aliis\\anaconda3\\lib\\site-packages (from torch>=1.6.0->feel-it) (3.10.0.2)\n",
      "Requirement already satisfied: colorama in c:\\users\\aliis\\anaconda3\\lib\\site-packages (from tqdm>=4.27->transformers==4.3.3->feel-it) (0.4.4)\n",
      "Requirement already satisfied: pyparsing>=2.0.2 in c:\\users\\aliis\\anaconda3\\lib\\site-packages (from packaging->transformers==4.3.3->feel-it) (3.0.4)\n",
      "Requirement already satisfied: charset-normalizer~=2.0.0 in c:\\users\\aliis\\anaconda3\\lib\\site-packages (from requests->transformers==4.3.3->feel-it) (2.0.4)\n",
      "Requirement already satisfied: urllib3<1.27,>=1.21.1 in c:\\users\\aliis\\anaconda3\\lib\\site-packages (from requests->transformers==4.3.3->feel-it) (1.26.7)\n",
      "Requirement already satisfied: certifi>=2017.4.17 in c:\\users\\aliis\\anaconda3\\lib\\site-packages (from requests->transformers==4.3.3->feel-it) (2021.10.8)\n",
      "Requirement already satisfied: idna<4,>=2.5 in c:\\users\\aliis\\anaconda3\\lib\\site-packages (from requests->transformers==4.3.3->feel-it) (3.2)\n",
      "Requirement already satisfied: click in c:\\users\\aliis\\anaconda3\\lib\\site-packages (from sacremoses->transformers==4.3.3->feel-it) (7.1.2)\n",
      "Requirement already satisfied: joblib in c:\\users\\aliis\\anaconda3\\lib\\site-packages (from sacremoses->transformers==4.3.3->feel-it) (1.1.0)\n",
      "Requirement already satisfied: six in c:\\users\\aliis\\anaconda3\\lib\\site-packages (from sacremoses->transformers==4.3.3->feel-it) (1.16.0)\n",
      "Installing collected packages: tokenizers, transformers\n",
      "  Attempting uninstall: tokenizers\n",
      "    Found existing installation: tokenizers 0.12.1\n",
      "    Uninstalling tokenizers-0.12.1:\n",
      "      Successfully uninstalled tokenizers-0.12.1\n",
      "  Attempting uninstall: transformers\n",
      "    Found existing installation: transformers 4.20.1\n",
      "    Uninstalling transformers-4.20.1:\n",
      "      Successfully uninstalled transformers-4.20.1\n",
      "Successfully installed tokenizers-0.10.3 transformers-4.3.3\n"
     ]
    },
    {
     "name": "stderr",
     "output_type": "stream",
     "text": [
      "ERROR: pip's dependency resolver does not currently take into account all the packages that are installed. This behaviour is the source of the following dependency conflicts.\n",
      "sentence-transformers 2.2.0 requires transformers<5.0.0,>=4.6.0, but you have transformers 4.3.3 which is incompatible.\n"
     ]
    }
   ],
   "source": [
    "#installo robe\n",
    "!pip install textblob\n",
    "!pip install wordcloud\n",
    "!pip install plotly\n",
    "!pip install wordninja\n",
    "!pip install pyspellchecker\n",
    "!pip install kaleido\n",
    "!pip install vaderSentiment\n",
    "!pip install feel-it"
   ]
  },
  {
   "cell_type": "code",
   "execution_count": 2,
   "id": "1104ea4e",
   "metadata": {},
   "outputs": [
    {
     "name": "stderr",
     "output_type": "stream",
     "text": [
      "[nltk_data] Downloading package stopwords to\n",
      "[nltk_data]     C:\\Users\\aliis\\AppData\\Roaming\\nltk_data...\n",
      "[nltk_data]   Unzipping corpora\\stopwords.zip.\n"
     ]
    }
   ],
   "source": [
    "%matplotlib inline\n",
    "import matplotlib.pyplot as plt\n",
    "\n",
    "\n",
    "import numpy as np\n",
    "import pandas as pd\n",
    "import string \n",
    "import seaborn as sns\n",
    "import nltk\n",
    "import pandas as pd\n",
    "#pd.options.mode.chained_assignment = None\n",
    "import numpy as np\n",
    "import matplotlib.pyplot as plt\n",
    "import re\n",
    "import seaborn as sns\n",
    "import plotly.express as px\n",
    "import plotly.express as px\n",
    "import plotly.graph_objs as go\n",
    "\n",
    "\n",
    "\n",
    "from textblob import TextBlob\n",
    "from wordcloud import WordCloud\n",
    "from nltk.corpus import stopwords \n",
    "from nltk import *\n",
    "\n",
    "nltk.download('stopwords')\n",
    "stop_words = set(stopwords.words('italian'))  \n",
    "plt.rcParams['figure.figsize'] = [10, 8]\n"
   ]
  },
  {
   "cell_type": "markdown",
   "id": "6666f0b7-ddfc-4363-b146-1e287773f312",
   "metadata": {},
   "source": [
    "TWEET ESTRATTI CON HASHTAG **\"IMMUNI\"** "
   ]
  },
  {
   "cell_type": "code",
   "execution_count": 3,
   "id": "22874fb4",
   "metadata": {},
   "outputs": [],
   "source": [
    "df = pd.read_csv('dati/tweet_Immuni_2020_2021.csv', parse_dates=['date'], low_memory=False) # #hashtag: Immuni\n",
    "del df['Unnamed: 0'] #rimuovo la prima colonna*"
   ]
  },
  {
   "cell_type": "markdown",
   "id": "eb5e94e0",
   "metadata": {},
   "source": [
    "TWEET ESTRATTI CON HASHTAG **\"APPIMMUNI\"** "
   ]
  },
  {
   "cell_type": "code",
   "execution_count": 4,
   "id": "245eb25e",
   "metadata": {},
   "outputs": [],
   "source": [
    "df2 = pd.read_csv('dati/tweet_AppImmuni_2020_2021.csv', parse_dates=['date'], low_memory=False) # #hashtag: AppImmuni\n",
    "del df2['Unnamed: 0'] #rimuovo la prima colonna*"
   ]
  },
  {
   "cell_type": "markdown",
   "id": "6207d53b",
   "metadata": {},
   "source": [
    "TWEET ESTRATTI CON HASHTAG **\"IMMUNIAPP\"** "
   ]
  },
  {
   "cell_type": "code",
   "execution_count": 5,
   "id": "6abe916c-b19c-4b57-9589-4029f9681bd8",
   "metadata": {},
   "outputs": [],
   "source": [
    "df3 = pd.read_csv('dati/tweet_ImmuniApp_2020_2021.csv', parse_dates=['date']) #hashtag: ImmuniApp\n",
    "del df3['Unnamed: 0'] #rimuovo la prima colonna"
   ]
  },
  {
   "cell_type": "markdown",
   "id": "bb2e3cd7-9cd0-4a3e-a81e-eb94c1b6bd0c",
   "metadata": {},
   "source": [
    "## DATA UNDERSTANDING"
   ]
  },
  {
   "cell_type": "markdown",
   "id": "bf665e65-c743-4602-8bc5-201ebe7c3ca2",
   "metadata": {},
   "source": [
    "1. **Dimensioni** (Righe e colonne)"
   ]
  },
  {
   "cell_type": "code",
   "execution_count": 6,
   "id": "0008373f-3fa2-4371-9de8-e5e5a1149a9b",
   "metadata": {},
   "outputs": [
    {
     "name": "stdout",
     "output_type": "stream",
     "text": [
      "Caratteristiche (righe, colonne) data set con tweet hashtag '#Immuni': (7032, 36)\n",
      "Caratteristiche (righe, colonne) data set con tweet hashtag '#AppImmuni': (3789, 36)\n",
      "Caratteristiche (righe, colonne) data set con tweet hashtag '#ImmuniApp': (2162, 36)\n"
     ]
    }
   ],
   "source": [
    "print(\"Caratteristiche (righe, colonne) data set con tweet hashtag '#Immuni':\", df.shape)\n",
    "print(\"Caratteristiche (righe, colonne) data set con tweet hashtag '#AppImmuni':\", df2.shape)\n",
    "print(\"Caratteristiche (righe, colonne) data set con tweet hashtag '#ImmuniApp':\", df3.shape)"
   ]
  },
  {
   "cell_type": "markdown",
   "id": "8c9e4531-efca-454b-9129-90bdc52cd0eb",
   "metadata": {},
   "source": [
    "1. **Numero di utenti** (*user_id*,  codice univoco per ciascun utente)"
   ]
  },
  {
   "cell_type": "code",
   "execution_count": 7,
   "id": "c97fc517",
   "metadata": {},
   "outputs": [
    {
     "name": "stdout",
     "output_type": "stream",
     "text": [
      "Numero UTENTI (User_id) dataset con tweet hashtag '#Immuni': 4706\n",
      "Numero UTENTI (User_id) dataset con tweet hashtag '#AppImmuni': 978\n",
      "Numero UTENTI (User_id) dataset con tweet hashtag '#ImmuniApp': 1033\n"
     ]
    }
   ],
   "source": [
    "#conto quanti utenti (identificati con uno user_id) ci sono nel primo dataset (quello con #immuni)\n",
    "print(\"Numero UTENTI (User_id) dataset con tweet hashtag '#Immuni':\", len(df['user_id'].unique()))\n",
    "print(\"Numero UTENTI (User_id) dataset con tweet hashtag '#AppImmuni':\", len(df2['user_id'].unique()))\n",
    "print(\"Numero UTENTI (User_id) dataset con tweet hashtag '#ImmuniApp':\", len(df3['user_id'].unique()))\n",
    "#tot: 11720 utenti "
   ]
  },
  {
   "cell_type": "markdown",
   "id": "8ed5f7dd-2c82-411d-a069-d9e00ed78852",
   "metadata": {},
   "source": [
    "2. **Tweets**"
   ]
  },
  {
   "cell_type": "code",
   "execution_count": 8,
   "id": "f3de1479-1c67-4d5e-9694-bbb212104cf3",
   "metadata": {},
   "outputs": [
    {
     "name": "stdout",
     "output_type": "stream",
     "text": [
      "Numero TWEETS dataset con tweet hashtag '#Immuni': 6885\n",
      "Numero TWEETS dataset con tweet hashtag '#Appimmuni': 1559\n",
      "Numero TWEETS dataset con tweet hashtag '#ImmuniApp': 1602\n"
     ]
    }
   ],
   "source": [
    "print(\"Numero TWEETS dataset con tweet hashtag '#Immuni':\", len(df['tweet'].value_counts()))\n",
    "print(\"Numero TWEETS dataset con tweet hashtag '#Appimmuni':\", len(df2['tweet'].value_counts()))\n",
    "print(\"Numero TWEETS dataset con tweet hashtag '#ImmuniApp':\", len(df3['tweet'].value_counts()))"
   ]
  },
  {
   "cell_type": "markdown",
   "id": "c4a67bea-21a4-4ae4-8ecd-da00abae2c5e",
   "metadata": {},
   "source": [
    "3. Hashtags"
   ]
  },
  {
   "cell_type": "code",
   "execution_count": 9,
   "id": "b1331b30-96f3-4e68-9d1f-cfaf51bfd8f3",
   "metadata": {},
   "outputs": [
    {
     "name": "stdout",
     "output_type": "stream",
     "text": [
      "Numero HASHTAGS dataset con tweet hashtag '#Immuni': 1068\n",
      "Numero HASHTAGS dataset con tweet hashtag '#Appimmuni': 833\n",
      "Numero HASHTAGS dataset con tweet hashtag '#ImmuniApp': 796\n"
     ]
    }
   ],
   "source": [
    "print(\"Numero HASHTAGS dataset con tweet hashtag '#Immuni':\", len(df['hashtags'].value_counts()))\n",
    "print(\"Numero HASHTAGS dataset con tweet hashtag '#Appimmuni':\", len(df2['hashtags'].value_counts()))\n",
    "print(\"Numero HASHTAGS dataset con tweet hashtag '#ImmuniApp':\", len(df3['hashtags'].value_counts()))"
   ]
  },
  {
   "cell_type": "markdown",
   "id": "b8265820",
   "metadata": {},
   "source": [
    "# DATASET FINALE (df1 + df2)"
   ]
  },
  {
   "cell_type": "markdown",
   "id": "5d77b61a",
   "metadata": {},
   "source": [
    "### Unisco i due dataset"
   ]
  },
  {
   "cell_type": "code",
   "execution_count": 10,
   "id": "5e071f97",
   "metadata": {},
   "outputs": [
    {
     "data": {
      "text/html": [
       "<div>\n",
       "<style scoped>\n",
       "    .dataframe tbody tr th:only-of-type {\n",
       "        vertical-align: middle;\n",
       "    }\n",
       "\n",
       "    .dataframe tbody tr th {\n",
       "        vertical-align: top;\n",
       "    }\n",
       "\n",
       "    .dataframe thead th {\n",
       "        text-align: right;\n",
       "    }\n",
       "</style>\n",
       "<table border=\"1\" class=\"dataframe\">\n",
       "  <thead>\n",
       "    <tr style=\"text-align: right;\">\n",
       "      <th></th>\n",
       "      <th>id</th>\n",
       "      <th>conversation_id</th>\n",
       "      <th>created_at</th>\n",
       "      <th>date</th>\n",
       "      <th>time</th>\n",
       "      <th>timezone</th>\n",
       "      <th>user_id</th>\n",
       "      <th>username</th>\n",
       "      <th>name</th>\n",
       "      <th>place</th>\n",
       "      <th>...</th>\n",
       "      <th>geo</th>\n",
       "      <th>source</th>\n",
       "      <th>user_rt_id</th>\n",
       "      <th>user_rt</th>\n",
       "      <th>retweet_id</th>\n",
       "      <th>reply_to</th>\n",
       "      <th>retweet_date</th>\n",
       "      <th>translate</th>\n",
       "      <th>trans_src</th>\n",
       "      <th>trans_dest</th>\n",
       "    </tr>\n",
       "  </thead>\n",
       "  <tbody>\n",
       "    <tr>\n",
       "      <th>0</th>\n",
       "      <td>1268331574891872256</td>\n",
       "      <td>1268331574891872256</td>\n",
       "      <td>2020-06-04 01:59:46 ora legale Europa occidentale</td>\n",
       "      <td>2020-06-04</td>\n",
       "      <td>01:59:46</td>\n",
       "      <td>200</td>\n",
       "      <td>266910319</td>\n",
       "      <td>appleforyou83</td>\n",
       "      <td>Theappleforyou</td>\n",
       "      <td>NaN</td>\n",
       "      <td>...</td>\n",
       "      <td>NaN</td>\n",
       "      <td>NaN</td>\n",
       "      <td>NaN</td>\n",
       "      <td>NaN</td>\n",
       "      <td>NaN</td>\n",
       "      <td>[]</td>\n",
       "      <td>NaN</td>\n",
       "      <td>NaN</td>\n",
       "      <td>NaN</td>\n",
       "      <td>NaN</td>\n",
       "    </tr>\n",
       "    <tr>\n",
       "      <th>1</th>\n",
       "      <td>1268331091909361665</td>\n",
       "      <td>1268331082698588160</td>\n",
       "      <td>2020-06-04 01:57:51 ora legale Europa occidentale</td>\n",
       "      <td>2020-06-04</td>\n",
       "      <td>01:57:51</td>\n",
       "      <td>200</td>\n",
       "      <td>1092893394</td>\n",
       "      <td>annafornasetti</td>\n",
       "      <td>안나 ★彡𓂀🫒</td>\n",
       "      <td>NaN</td>\n",
       "      <td>...</td>\n",
       "      <td>NaN</td>\n",
       "      <td>NaN</td>\n",
       "      <td>NaN</td>\n",
       "      <td>NaN</td>\n",
       "      <td>NaN</td>\n",
       "      <td>[]</td>\n",
       "      <td>NaN</td>\n",
       "      <td>NaN</td>\n",
       "      <td>NaN</td>\n",
       "      <td>NaN</td>\n",
       "    </tr>\n",
       "    <tr>\n",
       "      <th>2</th>\n",
       "      <td>1268331082698588162</td>\n",
       "      <td>1268331082698588160</td>\n",
       "      <td>2020-06-04 01:57:49 ora legale Europa occidentale</td>\n",
       "      <td>2020-06-04</td>\n",
       "      <td>01:57:49</td>\n",
       "      <td>200</td>\n",
       "      <td>1092893394</td>\n",
       "      <td>annafornasetti</td>\n",
       "      <td>안나 ★彡𓂀🫒</td>\n",
       "      <td>NaN</td>\n",
       "      <td>...</td>\n",
       "      <td>NaN</td>\n",
       "      <td>NaN</td>\n",
       "      <td>NaN</td>\n",
       "      <td>NaN</td>\n",
       "      <td>NaN</td>\n",
       "      <td>[]</td>\n",
       "      <td>NaN</td>\n",
       "      <td>NaN</td>\n",
       "      <td>NaN</td>\n",
       "      <td>NaN</td>\n",
       "    </tr>\n",
       "    <tr>\n",
       "      <th>3</th>\n",
       "      <td>1268330671438733314</td>\n",
       "      <td>1268296873883963392</td>\n",
       "      <td>2020-06-04 01:56:11 ora legale Europa occidentale</td>\n",
       "      <td>2020-06-04</td>\n",
       "      <td>01:56:11</td>\n",
       "      <td>200</td>\n",
       "      <td>1267957495324172288</td>\n",
       "      <td>aleessi4m</td>\n",
       "      <td>alessia ✨</td>\n",
       "      <td>NaN</td>\n",
       "      <td>...</td>\n",
       "      <td>NaN</td>\n",
       "      <td>NaN</td>\n",
       "      <td>NaN</td>\n",
       "      <td>NaN</td>\n",
       "      <td>NaN</td>\n",
       "      <td>[{'screen_name': 'DiegoFusaro', 'name': 'Diego...</td>\n",
       "      <td>NaN</td>\n",
       "      <td>NaN</td>\n",
       "      <td>NaN</td>\n",
       "      <td>NaN</td>\n",
       "    </tr>\n",
       "    <tr>\n",
       "      <th>4</th>\n",
       "      <td>1268329725967183873</td>\n",
       "      <td>1268329725967183872</td>\n",
       "      <td>2020-06-04 01:52:25 ora legale Europa occidentale</td>\n",
       "      <td>2020-06-04</td>\n",
       "      <td>01:52:25</td>\n",
       "      <td>200</td>\n",
       "      <td>1337280565</td>\n",
       "      <td>garboek</td>\n",
       "      <td>GabryKeegan</td>\n",
       "      <td>NaN</td>\n",
       "      <td>...</td>\n",
       "      <td>NaN</td>\n",
       "      <td>NaN</td>\n",
       "      <td>NaN</td>\n",
       "      <td>NaN</td>\n",
       "      <td>NaN</td>\n",
       "      <td>[]</td>\n",
       "      <td>NaN</td>\n",
       "      <td>NaN</td>\n",
       "      <td>NaN</td>\n",
       "      <td>NaN</td>\n",
       "    </tr>\n",
       "  </tbody>\n",
       "</table>\n",
       "<p>5 rows × 36 columns</p>\n",
       "</div>"
      ],
      "text/plain": [
       "                    id      conversation_id  \\\n",
       "0  1268331574891872256  1268331574891872256   \n",
       "1  1268331091909361665  1268331082698588160   \n",
       "2  1268331082698588162  1268331082698588160   \n",
       "3  1268330671438733314  1268296873883963392   \n",
       "4  1268329725967183873  1268329725967183872   \n",
       "\n",
       "                                          created_at       date      time  \\\n",
       "0  2020-06-04 01:59:46 ora legale Europa occidentale 2020-06-04  01:59:46   \n",
       "1  2020-06-04 01:57:51 ora legale Europa occidentale 2020-06-04  01:57:51   \n",
       "2  2020-06-04 01:57:49 ora legale Europa occidentale 2020-06-04  01:57:49   \n",
       "3  2020-06-04 01:56:11 ora legale Europa occidentale 2020-06-04  01:56:11   \n",
       "4  2020-06-04 01:52:25 ora legale Europa occidentale 2020-06-04  01:52:25   \n",
       "\n",
       "   timezone              user_id        username            name place  ...  \\\n",
       "0       200            266910319   appleforyou83  Theappleforyou   NaN  ...   \n",
       "1       200           1092893394  annafornasetti         안나 ★彡𓂀🫒   NaN  ...   \n",
       "2       200           1092893394  annafornasetti         안나 ★彡𓂀🫒   NaN  ...   \n",
       "3       200  1267957495324172288       aleessi4m       alessia ✨   NaN  ...   \n",
       "4       200           1337280565         garboek     GabryKeegan   NaN  ...   \n",
       "\n",
       "  geo source user_rt_id user_rt retweet_id  \\\n",
       "0 NaN    NaN        NaN     NaN        NaN   \n",
       "1 NaN    NaN        NaN     NaN        NaN   \n",
       "2 NaN    NaN        NaN     NaN        NaN   \n",
       "3 NaN    NaN        NaN     NaN        NaN   \n",
       "4 NaN    NaN        NaN     NaN        NaN   \n",
       "\n",
       "                                            reply_to  retweet_date  translate  \\\n",
       "0                                                 []           NaN        NaN   \n",
       "1                                                 []           NaN        NaN   \n",
       "2                                                 []           NaN        NaN   \n",
       "3  [{'screen_name': 'DiegoFusaro', 'name': 'Diego...           NaN        NaN   \n",
       "4                                                 []           NaN        NaN   \n",
       "\n",
       "  trans_src trans_dest  \n",
       "0       NaN        NaN  \n",
       "1       NaN        NaN  \n",
       "2       NaN        NaN  \n",
       "3       NaN        NaN  \n",
       "4       NaN        NaN  \n",
       "\n",
       "[5 rows x 36 columns]"
      ]
     },
     "execution_count": 10,
     "metadata": {},
     "output_type": "execute_result"
    }
   ],
   "source": [
    "df_final = pd.concat([df, df2, df3],  ignore_index=True)\n",
    "df_final.head(5)"
   ]
  },
  {
   "cell_type": "markdown",
   "id": "fd27fe33",
   "metadata": {},
   "source": [
    "conto hashtags e menzioni"
   ]
  },
  {
   "cell_type": "code",
   "execution_count": 11,
   "id": "cbd59205",
   "metadata": {},
   "outputs": [],
   "source": [
    "#conto gli hashtags\n",
    "df_final['hashtag_count'] = df_final['tweet'].apply(lambda x: len([c for c in str(x) if c == '#']))"
   ]
  },
  {
   "cell_type": "code",
   "execution_count": 12,
   "id": "6808ce11",
   "metadata": {},
   "outputs": [],
   "source": [
    "#conto le menzioni\n",
    "df_final['ment_count'] = df_final['tweet'].apply(lambda x: len([c for c in str(x) if c == '@']))"
   ]
  },
  {
   "cell_type": "markdown",
   "id": "c5a8e4f0",
   "metadata": {},
   "source": [
    "## DATA CLEANING"
   ]
  },
  {
   "cell_type": "markdown",
   "id": "72769685",
   "metadata": {},
   "source": [
    "Elimino le colonne inutili o con valori nulli da entrambi i df"
   ]
  },
  {
   "cell_type": "code",
   "execution_count": 13,
   "id": "e5128697",
   "metadata": {},
   "outputs": [],
   "source": [
    "df_final = df_final.drop(['id','time', \"retweet_date\", \"translate\", \"created_at\", \"conversation_id\", \"trans_src\", \"trans_dest\",\"link\", \"near\", \"geo\", \"source\", \"user_rt_id\",\"user_rt\", \"retweet_id\", \"place\", \"thumbnail\", \"video\", \"language\", \"photos\" , \"timezone\", \"cashtags\", \"urls\", \"retweet\", \"quote_url\"], axis=1)"
   ]
  },
  {
   "cell_type": "markdown",
   "id": "670a7bf7",
   "metadata": {},
   "source": [
    "### Pulizia dei tweet:\n",
    "- elimino i duolicati\n",
    "- li ripulisco utilizzando le er"
   ]
  },
  {
   "cell_type": "code",
   "execution_count": 14,
   "id": "92f76bed",
   "metadata": {},
   "outputs": [
    {
     "data": {
      "text/html": [
       "<div>\n",
       "<style scoped>\n",
       "    .dataframe tbody tr th:only-of-type {\n",
       "        vertical-align: middle;\n",
       "    }\n",
       "\n",
       "    .dataframe tbody tr th {\n",
       "        vertical-align: top;\n",
       "    }\n",
       "\n",
       "    .dataframe thead th {\n",
       "        text-align: right;\n",
       "    }\n",
       "</style>\n",
       "<table border=\"1\" class=\"dataframe\">\n",
       "  <thead>\n",
       "    <tr style=\"text-align: right;\">\n",
       "      <th></th>\n",
       "      <th>date</th>\n",
       "      <th>user_id</th>\n",
       "      <th>username</th>\n",
       "      <th>name</th>\n",
       "      <th>tweet</th>\n",
       "      <th>mentions</th>\n",
       "      <th>replies_count</th>\n",
       "      <th>retweets_count</th>\n",
       "      <th>likes_count</th>\n",
       "      <th>hashtags</th>\n",
       "      <th>reply_to</th>\n",
       "      <th>hashtag_count</th>\n",
       "      <th>ment_count</th>\n",
       "    </tr>\n",
       "  </thead>\n",
       "  <tbody>\n",
       "    <tr>\n",
       "      <th>0</th>\n",
       "      <td>2020-06-04</td>\n",
       "      <td>266910319</td>\n",
       "      <td>appleforyou83</td>\n",
       "      <td>Theappleforyou</td>\n",
       "      <td>Immuni:l’app per contenere i contagi del Covid...</td>\n",
       "      <td>[]</td>\n",
       "      <td>0</td>\n",
       "      <td>0</td>\n",
       "      <td>0</td>\n",
       "      <td>[]</td>\n",
       "      <td>[]</td>\n",
       "      <td>0</td>\n",
       "      <td>0</td>\n",
       "    </tr>\n",
       "    <tr>\n",
       "      <th>1</th>\n",
       "      <td>2020-06-04</td>\n",
       "      <td>1092893394</td>\n",
       "      <td>annafornasetti</td>\n",
       "      <td>안나 ★彡𓂀🫒</td>\n",
       "      <td>Si valà Piergianfranco, lotta per la tua priva...</td>\n",
       "      <td>[]</td>\n",
       "      <td>1</td>\n",
       "      <td>0</td>\n",
       "      <td>0</td>\n",
       "      <td>[]</td>\n",
       "      <td>[]</td>\n",
       "      <td>0</td>\n",
       "      <td>0</td>\n",
       "    </tr>\n",
       "    <tr>\n",
       "      <th>2</th>\n",
       "      <td>2020-06-04</td>\n",
       "      <td>1092893394</td>\n",
       "      <td>annafornasetti</td>\n",
       "      <td>안나 ★彡𓂀🫒</td>\n",
       "      <td>“non scaricate l’app immuni serve al governo p...</td>\n",
       "      <td>[]</td>\n",
       "      <td>1</td>\n",
       "      <td>0</td>\n",
       "      <td>4</td>\n",
       "      <td>[]</td>\n",
       "      <td>[]</td>\n",
       "      <td>0</td>\n",
       "      <td>0</td>\n",
       "    </tr>\n",
       "    <tr>\n",
       "      <th>3</th>\n",
       "      <td>2020-06-04</td>\n",
       "      <td>1267957495324172288</td>\n",
       "      <td>aleessi4m</td>\n",
       "      <td>alessia ✨</td>\n",
       "      <td>@DiegoFusaro Scusa un attimo, ma se tieni così...</td>\n",
       "      <td>[]</td>\n",
       "      <td>0</td>\n",
       "      <td>0</td>\n",
       "      <td>1</td>\n",
       "      <td>[]</td>\n",
       "      <td>[{'screen_name': 'DiegoFusaro', 'name': 'Diego...</td>\n",
       "      <td>0</td>\n",
       "      <td>1</td>\n",
       "    </tr>\n",
       "    <tr>\n",
       "      <th>4</th>\n",
       "      <td>2020-06-04</td>\n",
       "      <td>1337280565</td>\n",
       "      <td>garboek</td>\n",
       "      <td>GabryKeegan</td>\n",
       "      <td>Qualcuno adotti il bambino dell'#appimmuni</td>\n",
       "      <td>[]</td>\n",
       "      <td>0</td>\n",
       "      <td>0</td>\n",
       "      <td>2</td>\n",
       "      <td>['appimmuni']</td>\n",
       "      <td>[]</td>\n",
       "      <td>1</td>\n",
       "      <td>0</td>\n",
       "    </tr>\n",
       "    <tr>\n",
       "      <th>...</th>\n",
       "      <td>...</td>\n",
       "      <td>...</td>\n",
       "      <td>...</td>\n",
       "      <td>...</td>\n",
       "      <td>...</td>\n",
       "      <td>...</td>\n",
       "      <td>...</td>\n",
       "      <td>...</td>\n",
       "      <td>...</td>\n",
       "      <td>...</td>\n",
       "      <td>...</td>\n",
       "      <td>...</td>\n",
       "      <td>...</td>\n",
       "    </tr>\n",
       "    <tr>\n",
       "      <th>12978</th>\n",
       "      <td>2021-07-16</td>\n",
       "      <td>1035920142843215874</td>\n",
       "      <td>capobianco2005c</td>\n",
       "      <td>Michele Capobianco</td>\n",
       "      <td>@GiorgiaMeloni @BelpietroTweet Giusto, rendiam...</td>\n",
       "      <td>[{'screen_name': 'immuni_app', 'name': 'immuni...</td>\n",
       "      <td>0</td>\n",
       "      <td>0</td>\n",
       "      <td>0</td>\n",
       "      <td>['immuniapp', 'contattostretto', 'positivo']</td>\n",
       "      <td>[{'screen_name': 'GiorgiaMeloni', 'name': 'Gio...</td>\n",
       "      <td>3</td>\n",
       "      <td>3</td>\n",
       "    </tr>\n",
       "    <tr>\n",
       "      <th>12979</th>\n",
       "      <td>2021-07-16</td>\n",
       "      <td>1035920142843215874</td>\n",
       "      <td>capobianco2005c</td>\n",
       "      <td>Michele Capobianco</td>\n",
       "      <td>Update: #GreenPass, #ZoneAColori, #restrizioni...</td>\n",
       "      <td>[]</td>\n",
       "      <td>0</td>\n",
       "      <td>0</td>\n",
       "      <td>0</td>\n",
       "      <td>['greenpass', 'zoneacolori', 'restrizioni', 'l...</td>\n",
       "      <td>[]</td>\n",
       "      <td>15</td>\n",
       "      <td>0</td>\n",
       "    </tr>\n",
       "    <tr>\n",
       "      <th>12980</th>\n",
       "      <td>2021-08-08</td>\n",
       "      <td>1006624848272154624</td>\n",
       "      <td>grossofanken</td>\n",
       "      <td>grossofanken</td>\n",
       "      <td>Ma un bel #cashback ad ogni esibizione del #Gr...</td>\n",
       "      <td>[]</td>\n",
       "      <td>1</td>\n",
       "      <td>0</td>\n",
       "      <td>0</td>\n",
       "      <td>['cashback', 'greenpassobbligatorio', 'immunia...</td>\n",
       "      <td>[]</td>\n",
       "      <td>3</td>\n",
       "      <td>0</td>\n",
       "    </tr>\n",
       "    <tr>\n",
       "      <th>12981</th>\n",
       "      <td>2021-08-29</td>\n",
       "      <td>1260497008986652678</td>\n",
       "      <td>lorech__</td>\n",
       "      <td>Lore</td>\n",
       "      <td>@Dino53084186 @sbonaccini Se nn vede la differ...</td>\n",
       "      <td>[]</td>\n",
       "      <td>3</td>\n",
       "      <td>0</td>\n",
       "      <td>3</td>\n",
       "      <td>[]</td>\n",
       "      <td>[{'screen_name': 'Dino53084186', 'name': 'Dino...</td>\n",
       "      <td>0</td>\n",
       "      <td>2</td>\n",
       "    </tr>\n",
       "    <tr>\n",
       "      <th>12982</th>\n",
       "      <td>2021-12-31</td>\n",
       "      <td>866679978</td>\n",
       "      <td>fede2_4</td>\n",
       "      <td>Shadow</td>\n",
       "      <td>@EnricoLetta @il_cappellini Serviva #LockdownS...</td>\n",
       "      <td>[]</td>\n",
       "      <td>1</td>\n",
       "      <td>0</td>\n",
       "      <td>0</td>\n",
       "      <td>['lockdownsubito', 'omicron', 'obbligovaccinal...</td>\n",
       "      <td>[{'screen_name': 'EnricoLetta', 'name': 'Enric...</td>\n",
       "      <td>5</td>\n",
       "      <td>2</td>\n",
       "    </tr>\n",
       "  </tbody>\n",
       "</table>\n",
       "<p>9784 rows × 13 columns</p>\n",
       "</div>"
      ],
      "text/plain": [
       "            date              user_id         username                name  \\\n",
       "0     2020-06-04            266910319    appleforyou83      Theappleforyou   \n",
       "1     2020-06-04           1092893394   annafornasetti             안나 ★彡𓂀🫒   \n",
       "2     2020-06-04           1092893394   annafornasetti             안나 ★彡𓂀🫒   \n",
       "3     2020-06-04  1267957495324172288        aleessi4m           alessia ✨   \n",
       "4     2020-06-04           1337280565          garboek         GabryKeegan   \n",
       "...          ...                  ...              ...                 ...   \n",
       "12978 2021-07-16  1035920142843215874  capobianco2005c  Michele Capobianco   \n",
       "12979 2021-07-16  1035920142843215874  capobianco2005c  Michele Capobianco   \n",
       "12980 2021-08-08  1006624848272154624     grossofanken        grossofanken   \n",
       "12981 2021-08-29  1260497008986652678         lorech__                Lore   \n",
       "12982 2021-12-31            866679978          fede2_4              Shadow   \n",
       "\n",
       "                                                   tweet  \\\n",
       "0      Immuni:l’app per contenere i contagi del Covid...   \n",
       "1      Si valà Piergianfranco, lotta per la tua priva...   \n",
       "2      “non scaricate l’app immuni serve al governo p...   \n",
       "3      @DiegoFusaro Scusa un attimo, ma se tieni così...   \n",
       "4             Qualcuno adotti il bambino dell'#appimmuni   \n",
       "...                                                  ...   \n",
       "12978  @GiorgiaMeloni @BelpietroTweet Giusto, rendiam...   \n",
       "12979  Update: #GreenPass, #ZoneAColori, #restrizioni...   \n",
       "12980  Ma un bel #cashback ad ogni esibizione del #Gr...   \n",
       "12981  @Dino53084186 @sbonaccini Se nn vede la differ...   \n",
       "12982  @EnricoLetta @il_cappellini Serviva #LockdownS...   \n",
       "\n",
       "                                                mentions  replies_count  \\\n",
       "0                                                     []              0   \n",
       "1                                                     []              1   \n",
       "2                                                     []              1   \n",
       "3                                                     []              0   \n",
       "4                                                     []              0   \n",
       "...                                                  ...            ...   \n",
       "12978  [{'screen_name': 'immuni_app', 'name': 'immuni...              0   \n",
       "12979                                                 []              0   \n",
       "12980                                                 []              1   \n",
       "12981                                                 []              3   \n",
       "12982                                                 []              1   \n",
       "\n",
       "       retweets_count  likes_count  \\\n",
       "0                   0            0   \n",
       "1                   0            0   \n",
       "2                   0            4   \n",
       "3                   0            1   \n",
       "4                   0            2   \n",
       "...               ...          ...   \n",
       "12978               0            0   \n",
       "12979               0            0   \n",
       "12980               0            0   \n",
       "12981               0            3   \n",
       "12982               0            0   \n",
       "\n",
       "                                                hashtags  \\\n",
       "0                                                     []   \n",
       "1                                                     []   \n",
       "2                                                     []   \n",
       "3                                                     []   \n",
       "4                                          ['appimmuni']   \n",
       "...                                                  ...   \n",
       "12978       ['immuniapp', 'contattostretto', 'positivo']   \n",
       "12979  ['greenpass', 'zoneacolori', 'restrizioni', 'l...   \n",
       "12980  ['cashback', 'greenpassobbligatorio', 'immunia...   \n",
       "12981                                                 []   \n",
       "12982  ['lockdownsubito', 'omicron', 'obbligovaccinal...   \n",
       "\n",
       "                                                reply_to  hashtag_count  \\\n",
       "0                                                     []              0   \n",
       "1                                                     []              0   \n",
       "2                                                     []              0   \n",
       "3      [{'screen_name': 'DiegoFusaro', 'name': 'Diego...              0   \n",
       "4                                                     []              1   \n",
       "...                                                  ...            ...   \n",
       "12978  [{'screen_name': 'GiorgiaMeloni', 'name': 'Gio...              3   \n",
       "12979                                                 []             15   \n",
       "12980                                                 []              3   \n",
       "12981  [{'screen_name': 'Dino53084186', 'name': 'Dino...              0   \n",
       "12982  [{'screen_name': 'EnricoLetta', 'name': 'Enric...              5   \n",
       "\n",
       "       ment_count  \n",
       "0               0  \n",
       "1               0  \n",
       "2               0  \n",
       "3               1  \n",
       "4               0  \n",
       "...           ...  \n",
       "12978           3  \n",
       "12979           0  \n",
       "12980           0  \n",
       "12981           2  \n",
       "12982           2  \n",
       "\n",
       "[9784 rows x 13 columns]"
      ]
     },
     "execution_count": 14,
     "metadata": {},
     "output_type": "execute_result"
    }
   ],
   "source": [
    "#elimino i tweet duplicati\n",
    "df_final = df_final.drop_duplicates('tweet') # tweet doppi = 3.199\n",
    "df_final"
   ]
  },
  {
   "cell_type": "markdown",
   "id": "14bf1d6d",
   "metadata": {},
   "source": [
    "#### Trasformo i tweet eliminando caratteri speciali, doppi spazi ecc. "
   ]
  },
  {
   "cell_type": "code",
   "execution_count": 15,
   "id": "ba6625a1",
   "metadata": {},
   "outputs": [],
   "source": [
    "import pandas as pd\n",
    "import re\n",
    "import gensim\n",
    "from nltk.stem import WordNetLemmatizer\n",
    "\n",
    "punctuation = '!\"$%&\\'()*+,-./:;<=>?[\\\\]^_`{|}~•@'         # define a string of punctuation symbols\n",
    "def remove_links(tweet):\n",
    "    \"\"\"Takes a string and removes web links from it\"\"\"\n",
    "    tweet = re.sub(r'http\\S+', '', tweet)   # remove http links\n",
    "    tweet = re.sub(r'bit.ly/\\S+', '', tweet)  # remove bitly links\n",
    "    tweet = tweet.strip('[link]')   # remove [links]\n",
    "    tweet = re.sub(r'pic.twitter\\S+','', tweet)\n",
    "    return tweet\n",
    "\n",
    "def remove_users(tweet):\n",
    "    \"\"\"Takes a string and removes retweet and @user information\"\"\"\n",
    "   # tweet = re.sub('(RT\\s@[A-Za-z]+[A-Za-z0-9-_]+)', '', tweet)  # remove re-tweet\n",
    "    tweet = re.sub('@', '', tweet)  # remove tweeted at\n",
    "    return tweet\n",
    "\n",
    "def remove_hashtags(tweet):\n",
    "    \"\"\"Takes a string and removes any hash tags\"\"\"\n",
    "    tweet = re.sub('#', ' ', tweet)  # remove hash tags\n",
    "    return tweet\n",
    "\n",
    "def remove_av(tweet):\n",
    "    \"\"\"Takes a string and removes AUDIO/VIDEO tags or labels\"\"\"\n",
    "    tweet = re.sub('VIDEO:', '', tweet)  # remove 'VIDEO:' from start of tweet\n",
    "    tweet = re.sub('AUDIO:', '', tweet)  # remove 'AUDIO:' from start of tweet\n",
    "    return tweet\n",
    "\n",
    "def tokenize(tweet):\n",
    "    \"\"\"Returns tokenized representation of words in lemma form excluding stopwords\"\"\"\n",
    "    result = []\n",
    "    for token in gensim.utils.simple_preprocess(tweet):\n",
    "        if token not in gensim.parsing.preprocessing.STOPWORDS \\\n",
    "                and len(token) > 2:  # drops words with less than 3 characters\n",
    "            result.append(lemmatize(token))\n",
    "    return result\n",
    "\n",
    "def lemmatize(token):\n",
    "    \"\"\"Returns lemmatization of a token\"\"\"\n",
    "    return WordNetLemmatizer().lemmatize(token, pos='v')\n",
    "\n",
    "def pulizia_tweet(tweet):\n",
    "    tweet = remove_users(tweet)\n",
    "    tweet = remove_links(tweet)\n",
    "    tweet = remove_hashtags(tweet)\n",
    "    tweet = remove_av(tweet)\n",
    "    tweet = tweet.lower()  # lower case\n",
    "    tweet = re.sub('[' + punctuation + ']+', ' ', tweet)  # strip punctuation\n",
    "    tweet = re.sub('\\s+', ' ', tweet)  # remove double spacing\n",
    "    tweet = re.sub('([0-9]+)', '', tweet)  # remove numbers\n",
    "    tweet_token_list = tokenize(tweet)  # apply lemmatization and tokenization\n",
    "    tweet = ' '.join(tweet_token_list)\n",
    "    #tweet = tweet.strip(stop_words)\n",
    "    return tweet\n"
   ]
  },
  {
   "cell_type": "code",
   "execution_count": 16,
   "id": "cb46a2b5",
   "metadata": {},
   "outputs": [],
   "source": [
    "df_final['tweet'] = [pulizia_tweet(tweet) for tweet in df_final.tweet]\n"
   ]
  },
  {
   "cell_type": "code",
   "execution_count": 17,
   "id": "7000b573",
   "metadata": {},
   "outputs": [],
   "source": [
    "#df_final['tweet'].astype(str).strip(stop_words)\n",
    "df_final['tweet'] = df_final['tweet'].str.split(' ').apply(lambda x: ' '.join(k for k in x if k not in stop_words))"
   ]
  },
  {
   "cell_type": "code",
   "execution_count": 18,
   "id": "bef85438",
   "metadata": {},
   "outputs": [
    {
     "data": {
      "text/html": [
       "<div>\n",
       "<style scoped>\n",
       "    .dataframe tbody tr th:only-of-type {\n",
       "        vertical-align: middle;\n",
       "    }\n",
       "\n",
       "    .dataframe tbody tr th {\n",
       "        vertical-align: top;\n",
       "    }\n",
       "\n",
       "    .dataframe thead th {\n",
       "        text-align: right;\n",
       "    }\n",
       "</style>\n",
       "<table border=\"1\" class=\"dataframe\">\n",
       "  <thead>\n",
       "    <tr style=\"text-align: right;\">\n",
       "      <th></th>\n",
       "      <th>date</th>\n",
       "      <th>user_id</th>\n",
       "      <th>username</th>\n",
       "      <th>name</th>\n",
       "      <th>tweet</th>\n",
       "      <th>mentions</th>\n",
       "      <th>replies_count</th>\n",
       "      <th>retweets_count</th>\n",
       "      <th>likes_count</th>\n",
       "      <th>hashtags</th>\n",
       "      <th>reply_to</th>\n",
       "      <th>hashtag_count</th>\n",
       "      <th>ment_count</th>\n",
       "    </tr>\n",
       "  </thead>\n",
       "  <tbody>\n",
       "    <tr>\n",
       "      <th>12977</th>\n",
       "      <td>2021-07-12</td>\n",
       "      <td>1035920142843215874</td>\n",
       "      <td>capobianco2005c</td>\n",
       "      <td>Michele Capobianco</td>\n",
       "      <td>zziagenio dire bisogno vera squadra coesa dete...</td>\n",
       "      <td>[]</td>\n",
       "      <td>0</td>\n",
       "      <td>0</td>\n",
       "      <td>1</td>\n",
       "      <td>['squadra', 'pandemia', 'immuniapp']</td>\n",
       "      <td>[{'screen_name': 'Zziagenio78', 'name': 'Genio...</td>\n",
       "      <td>3</td>\n",
       "      <td>1</td>\n",
       "    </tr>\n",
       "    <tr>\n",
       "      <th>12978</th>\n",
       "      <td>2021-07-16</td>\n",
       "      <td>1035920142843215874</td>\n",
       "      <td>capobianco2005c</td>\n",
       "      <td>Michele Capobianco</td>\n",
       "      <td>giorgiameloni belpietrotweet giusto rendiamo o...</td>\n",
       "      <td>[{'screen_name': 'immuni_app', 'name': 'immuni...</td>\n",
       "      <td>0</td>\n",
       "      <td>0</td>\n",
       "      <td>0</td>\n",
       "      <td>['immuniapp', 'contattostretto', 'positivo']</td>\n",
       "      <td>[{'screen_name': 'GiorgiaMeloni', 'name': 'Gio...</td>\n",
       "      <td>3</td>\n",
       "      <td>3</td>\n",
       "    </tr>\n",
       "    <tr>\n",
       "      <th>12979</th>\n",
       "      <td>2021-07-16</td>\n",
       "      <td>1035920142843215874</td>\n",
       "      <td>capobianco2005c</td>\n",
       "      <td>Michele Capobianco</td>\n",
       "      <td>update greenpass zoneacolori restrizioni lockd...</td>\n",
       "      <td>[]</td>\n",
       "      <td>0</td>\n",
       "      <td>0</td>\n",
       "      <td>0</td>\n",
       "      <td>['greenpass', 'zoneacolori', 'restrizioni', 'l...</td>\n",
       "      <td>[]</td>\n",
       "      <td>15</td>\n",
       "      <td>0</td>\n",
       "    </tr>\n",
       "    <tr>\n",
       "      <th>12980</th>\n",
       "      <td>2021-08-08</td>\n",
       "      <td>1006624848272154624</td>\n",
       "      <td>grossofanken</td>\n",
       "      <td>grossofanken</td>\n",
       "      <td>bel cashback ogni esibizione scaricato esclusi...</td>\n",
       "      <td>[]</td>\n",
       "      <td>1</td>\n",
       "      <td>0</td>\n",
       "      <td>0</td>\n",
       "      <td>['cashback', 'greenpassobbligatorio', 'immunia...</td>\n",
       "      <td>[]</td>\n",
       "      <td>3</td>\n",
       "      <td>0</td>\n",
       "    </tr>\n",
       "    <tr>\n",
       "      <th>12981</th>\n",
       "      <td>2021-08-29</td>\n",
       "      <td>1260497008986652678</td>\n",
       "      <td>lorech__</td>\n",
       "      <td>Lore</td>\n",
       "      <td>dino sbonaccini vede differenza problema grave...</td>\n",
       "      <td>[]</td>\n",
       "      <td>3</td>\n",
       "      <td>0</td>\n",
       "      <td>3</td>\n",
       "      <td>[]</td>\n",
       "      <td>[{'screen_name': 'Dino53084186', 'name': 'Dino...</td>\n",
       "      <td>0</td>\n",
       "      <td>2</td>\n",
       "    </tr>\n",
       "    <tr>\n",
       "      <th>12982</th>\n",
       "      <td>2021-12-31</td>\n",
       "      <td>866679978</td>\n",
       "      <td>fede2_4</td>\n",
       "      <td>Shadow</td>\n",
       "      <td>enricoletta cappellini serviva lockdownsubito ...</td>\n",
       "      <td>[]</td>\n",
       "      <td>1</td>\n",
       "      <td>0</td>\n",
       "      <td>0</td>\n",
       "      <td>['lockdownsubito', 'omicron', 'obbligovaccinal...</td>\n",
       "      <td>[{'screen_name': 'EnricoLetta', 'name': 'Enric...</td>\n",
       "      <td>5</td>\n",
       "      <td>2</td>\n",
       "    </tr>\n",
       "  </tbody>\n",
       "</table>\n",
       "</div>"
      ],
      "text/plain": [
       "            date              user_id         username                name  \\\n",
       "12977 2021-07-12  1035920142843215874  capobianco2005c  Michele Capobianco   \n",
       "12978 2021-07-16  1035920142843215874  capobianco2005c  Michele Capobianco   \n",
       "12979 2021-07-16  1035920142843215874  capobianco2005c  Michele Capobianco   \n",
       "12980 2021-08-08  1006624848272154624     grossofanken        grossofanken   \n",
       "12981 2021-08-29  1260497008986652678         lorech__                Lore   \n",
       "12982 2021-12-31            866679978          fede2_4              Shadow   \n",
       "\n",
       "                                                   tweet  \\\n",
       "12977  zziagenio dire bisogno vera squadra coesa dete...   \n",
       "12978  giorgiameloni belpietrotweet giusto rendiamo o...   \n",
       "12979  update greenpass zoneacolori restrizioni lockd...   \n",
       "12980  bel cashback ogni esibizione scaricato esclusi...   \n",
       "12981  dino sbonaccini vede differenza problema grave...   \n",
       "12982  enricoletta cappellini serviva lockdownsubito ...   \n",
       "\n",
       "                                                mentions  replies_count  \\\n",
       "12977                                                 []              0   \n",
       "12978  [{'screen_name': 'immuni_app', 'name': 'immuni...              0   \n",
       "12979                                                 []              0   \n",
       "12980                                                 []              1   \n",
       "12981                                                 []              3   \n",
       "12982                                                 []              1   \n",
       "\n",
       "       retweets_count  likes_count  \\\n",
       "12977               0            1   \n",
       "12978               0            0   \n",
       "12979               0            0   \n",
       "12980               0            0   \n",
       "12981               0            3   \n",
       "12982               0            0   \n",
       "\n",
       "                                                hashtags  \\\n",
       "12977               ['squadra', 'pandemia', 'immuniapp']   \n",
       "12978       ['immuniapp', 'contattostretto', 'positivo']   \n",
       "12979  ['greenpass', 'zoneacolori', 'restrizioni', 'l...   \n",
       "12980  ['cashback', 'greenpassobbligatorio', 'immunia...   \n",
       "12981                                                 []   \n",
       "12982  ['lockdownsubito', 'omicron', 'obbligovaccinal...   \n",
       "\n",
       "                                                reply_to  hashtag_count  \\\n",
       "12977  [{'screen_name': 'Zziagenio78', 'name': 'Genio...              3   \n",
       "12978  [{'screen_name': 'GiorgiaMeloni', 'name': 'Gio...              3   \n",
       "12979                                                 []             15   \n",
       "12980                                                 []              3   \n",
       "12981  [{'screen_name': 'Dino53084186', 'name': 'Dino...              0   \n",
       "12982  [{'screen_name': 'EnricoLetta', 'name': 'Enric...              5   \n",
       "\n",
       "       ment_count  \n",
       "12977           1  \n",
       "12978           3  \n",
       "12979           0  \n",
       "12980           0  \n",
       "12981           2  \n",
       "12982           2  "
      ]
     },
     "execution_count": 18,
     "metadata": {},
     "output_type": "execute_result"
    }
   ],
   "source": [
    "df_final.tail(6)"
   ]
  },
  {
   "cell_type": "code",
   "execution_count": 19,
   "id": "01234459",
   "metadata": {},
   "outputs": [
    {
     "data": {
      "text/plain": [
       "0             immuni app contenere contagi covid fase vers\n",
       "1        valà piergianfranco lotta privacy chissà azion...\n",
       "2        scaricate app immuni serve governo tracciarci ...\n",
       "3        diegofusaro scusa attimo tieni così tanto priv...\n",
       "4                          qualcuno adotti bambino appimmu\n",
       "                               ...                        \n",
       "12978    giorgiameloni belpietrotweet giusto rendiamo o...\n",
       "12979    update greenpass zoneacolori restrizioni lockd...\n",
       "12980    bel cashback ogni esibizione scaricato esclusi...\n",
       "12981    dino sbonaccini vede differenza problema grave...\n",
       "12982    enricoletta cappellini serviva lockdownsubito ...\n",
       "Name: tweet, Length: 9784, dtype: object"
      ]
     },
     "execution_count": 19,
     "metadata": {},
     "output_type": "execute_result"
    }
   ],
   "source": [
    "df_final['tweet']"
   ]
  },
  {
   "cell_type": "code",
   "execution_count": 20,
   "id": "5d8e0fe1",
   "metadata": {},
   "outputs": [
    {
     "data": {
      "text/plain": [
       "date              0\n",
       "user_id           0\n",
       "username          0\n",
       "name              3\n",
       "tweet             0\n",
       "mentions          0\n",
       "replies_count     0\n",
       "retweets_count    0\n",
       "likes_count       0\n",
       "hashtags          0\n",
       "reply_to          0\n",
       "hashtag_count     0\n",
       "ment_count        0\n",
       "dtype: int64"
      ]
     },
     "execution_count": 20,
     "metadata": {},
     "output_type": "execute_result"
    }
   ],
   "source": [
    "df_final.isna().sum()"
   ]
  },
  {
   "cell_type": "markdown",
   "id": "9ee8eb82",
   "metadata": {},
   "source": [
    "Conto gli hashtags e le menzioni"
   ]
  },
  {
   "cell_type": "raw",
   "id": "318d929f",
   "metadata": {},
   "source": [
    "df_final = df_final.reindex(columns=[\"id\", \"date\", \"user_id\", \"username\", \"name\", \"tweet_clean\", \"mentions\", \"replies_count\", \"retweets_count\", \"likes_count\", \"hashtags\", \"reply_to\"])"
   ]
  },
  {
   "cell_type": "markdown",
   "id": "77a2d2a1",
   "metadata": {},
   "source": [
    "### Caratteristiche df finale"
   ]
  },
  {
   "cell_type": "markdown",
   "id": "698872e6",
   "metadata": {},
   "source": [
    "1. **Dimensioni** (righe e colonne)"
   ]
  },
  {
   "cell_type": "code",
   "execution_count": 21,
   "id": "d50cef5d",
   "metadata": {},
   "outputs": [
    {
     "name": "stdout",
     "output_type": "stream",
     "text": [
      "Nuove dimensioni del dataset dopo l'unione: \n",
      "\n",
      "COLONNE:  Index(['date', 'user_id', 'username', 'name', 'tweet', 'mentions',\n",
      "       'replies_count', 'retweets_count', 'likes_count', 'hashtags',\n",
      "       'reply_to', 'hashtag_count', 'ment_count'],\n",
      "      dtype='object') \n",
      "\n",
      "RIGHE E COLONNE:  (9784, 13)\n"
     ]
    }
   ],
   "source": [
    "print(\"Nuove dimensioni del dataset dopo l'unione: \\n\") \n",
    "print('COLONNE: ', df_final.columns, '\\n')\n",
    "print('RIGHE E COLONNE: ', df_final.shape)"
   ]
  },
  {
   "cell_type": "code",
   "execution_count": 22,
   "id": "ec36ca1c",
   "metadata": {},
   "outputs": [
    {
     "name": "stdout",
     "output_type": "stream",
     "text": [
      "<class 'pandas.core.frame.DataFrame'>\n",
      "Int64Index: 9784 entries, 0 to 12982\n",
      "Data columns (total 13 columns):\n",
      " #   Column          Non-Null Count  Dtype         \n",
      "---  ------          --------------  -----         \n",
      " 0   date            9784 non-null   datetime64[ns]\n",
      " 1   user_id         9784 non-null   int64         \n",
      " 2   username        9784 non-null   object        \n",
      " 3   name            9781 non-null   object        \n",
      " 4   tweet           9784 non-null   object        \n",
      " 5   mentions        9784 non-null   object        \n",
      " 6   replies_count   9784 non-null   int64         \n",
      " 7   retweets_count  9784 non-null   int64         \n",
      " 8   likes_count     9784 non-null   int64         \n",
      " 9   hashtags        9784 non-null   object        \n",
      " 10  reply_to        9784 non-null   object        \n",
      " 11  hashtag_count   9784 non-null   int64         \n",
      " 12  ment_count      9784 non-null   int64         \n",
      "dtypes: datetime64[ns](1), int64(6), object(6)\n",
      "memory usage: 1.0+ MB\n"
     ]
    }
   ],
   "source": [
    "df_final.info()"
   ]
  },
  {
   "cell_type": "markdown",
   "id": "60ef97ed",
   "metadata": {},
   "source": [
    "2: **Numero Utenti** (user_id)"
   ]
  },
  {
   "cell_type": "code",
   "execution_count": 23,
   "id": "d90e9b96",
   "metadata": {},
   "outputs": [
    {
     "name": "stdout",
     "output_type": "stream",
     "text": [
      "Numero UTENTI dataset finale (#Immuni + #AppImmuni):  6146\n"
     ]
    }
   ],
   "source": [
    "#conto quanti utenti (identificati con uno user_id) ci sono nel dataset finale\n",
    "print(\"Numero UTENTI dataset finale (#Immuni + #AppImmuni): \", len(df_final['username'].unique()))\n",
    "\n",
    "#tot: 10285 utenti "
   ]
  },
  {
   "cell_type": "markdown",
   "id": "7e183f1c",
   "metadata": {},
   "source": [
    "3. **Tweets**"
   ]
  },
  {
   "cell_type": "code",
   "execution_count": 24,
   "id": "438f4f1e",
   "metadata": {},
   "outputs": [
    {
     "name": "stdout",
     "output_type": "stream",
     "text": [
      "Numero TWEETS dataset finale (#Immuni + #AppImmuni):  9510\n"
     ]
    }
   ],
   "source": [
    "#conto quanti tweet ci sono nel dataset finale\n",
    "print(\"Numero TWEETS dataset finale (#Immuni + #AppImmuni): \", len(df_final['tweet'].value_counts()))"
   ]
  },
  {
   "cell_type": "markdown",
   "id": "e4546a8e",
   "metadata": {},
   "source": [
    "4. **Hashtags**"
   ]
  },
  {
   "cell_type": "code",
   "execution_count": 25,
   "id": "14dac5d3",
   "metadata": {},
   "outputs": [
    {
     "name": "stdout",
     "output_type": "stream",
     "text": [
      "Numero HASHTAGS dataset finale (#Immuni + #AppImmuni):  2514\n"
     ]
    }
   ],
   "source": [
    "#conto quanti utenti (identificati con uno user_id) ci sono nel dataset finale\n",
    "print(\"Numero HASHTAGS dataset finale (#Immuni + #AppImmuni): \", len(df_final['hashtags'].unique()))\n",
    "\n",
    "#tot: 10285 utenti "
   ]
  },
  {
   "cell_type": "markdown",
   "id": "691e66af",
   "metadata": {},
   "source": [
    "5. **Statistiche**"
   ]
  },
  {
   "cell_type": "code",
   "execution_count": 26,
   "id": "2e1504be",
   "metadata": {},
   "outputs": [
    {
     "data": {
      "text/html": [
       "<div>\n",
       "<style scoped>\n",
       "    .dataframe tbody tr th:only-of-type {\n",
       "        vertical-align: middle;\n",
       "    }\n",
       "\n",
       "    .dataframe tbody tr th {\n",
       "        vertical-align: top;\n",
       "    }\n",
       "\n",
       "    .dataframe thead th {\n",
       "        text-align: right;\n",
       "    }\n",
       "</style>\n",
       "<table border=\"1\" class=\"dataframe\">\n",
       "  <thead>\n",
       "    <tr style=\"text-align: right;\">\n",
       "      <th></th>\n",
       "      <th>user_id</th>\n",
       "      <th>replies_count</th>\n",
       "      <th>retweets_count</th>\n",
       "      <th>likes_count</th>\n",
       "      <th>hashtag_count</th>\n",
       "      <th>ment_count</th>\n",
       "    </tr>\n",
       "  </thead>\n",
       "  <tbody>\n",
       "    <tr>\n",
       "      <th>count</th>\n",
       "      <td>9.784000e+03</td>\n",
       "      <td>9784.000000</td>\n",
       "      <td>9784.000000</td>\n",
       "      <td>9784.000000</td>\n",
       "      <td>9784.000000</td>\n",
       "      <td>9784.000000</td>\n",
       "    </tr>\n",
       "    <tr>\n",
       "      <th>mean</th>\n",
       "      <td>3.441485e+17</td>\n",
       "      <td>0.981603</td>\n",
       "      <td>1.199101</td>\n",
       "      <td>5.888798</td>\n",
       "      <td>1.559485</td>\n",
       "      <td>1.313778</td>\n",
       "    </tr>\n",
       "    <tr>\n",
       "      <th>std</th>\n",
       "      <td>5.189202e+17</td>\n",
       "      <td>6.569584</td>\n",
       "      <td>10.370920</td>\n",
       "      <td>65.790824</td>\n",
       "      <td>2.922443</td>\n",
       "      <td>2.379954</td>\n",
       "    </tr>\n",
       "    <tr>\n",
       "      <th>min</th>\n",
       "      <td>1.122600e+04</td>\n",
       "      <td>0.000000</td>\n",
       "      <td>0.000000</td>\n",
       "      <td>0.000000</td>\n",
       "      <td>0.000000</td>\n",
       "      <td>0.000000</td>\n",
       "    </tr>\n",
       "    <tr>\n",
       "      <th>25%</th>\n",
       "      <td>3.536033e+08</td>\n",
       "      <td>0.000000</td>\n",
       "      <td>0.000000</td>\n",
       "      <td>0.000000</td>\n",
       "      <td>0.000000</td>\n",
       "      <td>0.000000</td>\n",
       "    </tr>\n",
       "    <tr>\n",
       "      <th>50%</th>\n",
       "      <td>1.258511e+09</td>\n",
       "      <td>0.000000</td>\n",
       "      <td>0.000000</td>\n",
       "      <td>0.000000</td>\n",
       "      <td>0.000000</td>\n",
       "      <td>1.000000</td>\n",
       "    </tr>\n",
       "    <tr>\n",
       "      <th>75%</th>\n",
       "      <td>9.031915e+17</td>\n",
       "      <td>1.000000</td>\n",
       "      <td>0.000000</td>\n",
       "      <td>2.000000</td>\n",
       "      <td>2.000000</td>\n",
       "      <td>2.000000</td>\n",
       "    </tr>\n",
       "    <tr>\n",
       "      <th>max</th>\n",
       "      <td>1.459849e+18</td>\n",
       "      <td>334.000000</td>\n",
       "      <td>597.000000</td>\n",
       "      <td>4141.000000</td>\n",
       "      <td>20.000000</td>\n",
       "      <td>50.000000</td>\n",
       "    </tr>\n",
       "  </tbody>\n",
       "</table>\n",
       "</div>"
      ],
      "text/plain": [
       "            user_id  replies_count  retweets_count  likes_count  \\\n",
       "count  9.784000e+03    9784.000000     9784.000000  9784.000000   \n",
       "mean   3.441485e+17       0.981603        1.199101     5.888798   \n",
       "std    5.189202e+17       6.569584       10.370920    65.790824   \n",
       "min    1.122600e+04       0.000000        0.000000     0.000000   \n",
       "25%    3.536033e+08       0.000000        0.000000     0.000000   \n",
       "50%    1.258511e+09       0.000000        0.000000     0.000000   \n",
       "75%    9.031915e+17       1.000000        0.000000     2.000000   \n",
       "max    1.459849e+18     334.000000      597.000000  4141.000000   \n",
       "\n",
       "       hashtag_count   ment_count  \n",
       "count    9784.000000  9784.000000  \n",
       "mean        1.559485     1.313778  \n",
       "std         2.922443     2.379954  \n",
       "min         0.000000     0.000000  \n",
       "25%         0.000000     0.000000  \n",
       "50%         0.000000     1.000000  \n",
       "75%         2.000000     2.000000  \n",
       "max        20.000000    50.000000  "
      ]
     },
     "execution_count": 26,
     "metadata": {},
     "output_type": "execute_result"
    }
   ],
   "source": [
    "df_final.describe()"
   ]
  },
  {
   "cell_type": "markdown",
   "id": "45510a65",
   "metadata": {},
   "source": [
    "estraggo \n",
    "- i 10 tweets più retweettati che si presume siano quelli andati amggiormente virali su twitter\n",
    "- i 10 tweets con più likes\n",
    "- i 10 tweets più menzioni/risposte"
   ]
  },
  {
   "cell_type": "code",
   "execution_count": 27,
   "id": "26492a16",
   "metadata": {},
   "outputs": [
    {
     "data": {
      "text/html": [
       "<div>\n",
       "<style scoped>\n",
       "    .dataframe tbody tr th:only-of-type {\n",
       "        vertical-align: middle;\n",
       "    }\n",
       "\n",
       "    .dataframe tbody tr th {\n",
       "        vertical-align: top;\n",
       "    }\n",
       "\n",
       "    .dataframe thead th {\n",
       "        text-align: right;\n",
       "    }\n",
       "</style>\n",
       "<table border=\"1\" class=\"dataframe\">\n",
       "  <thead>\n",
       "    <tr style=\"text-align: right;\">\n",
       "      <th></th>\n",
       "      <th>tweet</th>\n",
       "      <th>date</th>\n",
       "      <th>name</th>\n",
       "      <th>hashtags</th>\n",
       "      <th>likes_count</th>\n",
       "    </tr>\n",
       "  </thead>\n",
       "  <tbody>\n",
       "    <tr>\n",
       "      <th>11920</th>\n",
       "      <td>comunque download app torcia immuni immuniapp</td>\n",
       "      <td>2020-07-10</td>\n",
       "      <td>Le frasi di Osho</td>\n",
       "      <td>['immuniapp']</td>\n",
       "      <td>4141</td>\n",
       "    </tr>\n",
       "    <tr>\n",
       "      <th>476</th>\n",
       "      <td>giorgia meloni invita italiani scaricare app i...</td>\n",
       "      <td>2020-06-24</td>\n",
       "      <td>Cathy La Torre 🏳️‍🌈</td>\n",
       "      <td>[]</td>\n",
       "      <td>3624</td>\n",
       "    </tr>\n",
       "    <tr>\n",
       "      <th>5041</th>\n",
       "      <td>tenerezza sola quando controllo app immuni</td>\n",
       "      <td>2021-04-13</td>\n",
       "      <td>stefania pinna</td>\n",
       "      <td>[]</td>\n",
       "      <td>1474</td>\n",
       "    </tr>\n",
       "    <tr>\n",
       "      <th>474</th>\n",
       "      <td>trovo assolutamente irresponsabile atteggiamen...</td>\n",
       "      <td>2020-06-24</td>\n",
       "      <td>Gregorio de Falco</td>\n",
       "      <td>[]</td>\n",
       "      <td>1019</td>\n",
       "    </tr>\n",
       "    <tr>\n",
       "      <th>1286</th>\n",
       "      <td>uso app immuni comunicato codice tre volte fun...</td>\n",
       "      <td>2020-07-29</td>\n",
       "      <td>Matt Novells</td>\n",
       "      <td>[]</td>\n",
       "      <td>931</td>\n",
       "    </tr>\n",
       "    <tr>\n",
       "      <th>5095</th>\n",
       "      <td>alimentare app immuni potremmo usare energia c...</td>\n",
       "      <td>2021-04-18</td>\n",
       "      <td>Carlo Calenda</td>\n",
       "      <td>[]</td>\n",
       "      <td>920</td>\n",
       "    </tr>\n",
       "    <tr>\n",
       "      <th>4310</th>\n",
       "      <td>dopo mesi arrivata notifica app immuni dice ch...</td>\n",
       "      <td>2021-02-21</td>\n",
       "      <td>Dorian Gray</td>\n",
       "      <td>[]</td>\n",
       "      <td>758</td>\n",
       "    </tr>\n",
       "    <tr>\n",
       "      <th>5387</th>\n",
       "      <td>credo molto vaccini vera svolta uscire pandemi...</td>\n",
       "      <td>2021-05-10</td>\n",
       "      <td>Fabio Di Iorio</td>\n",
       "      <td>[]</td>\n",
       "      <td>689</td>\n",
       "    </tr>\n",
       "    <tr>\n",
       "      <th>5609</th>\n",
       "      <td>amici consiglio far fare green pass stessa fin...</td>\n",
       "      <td>2021-06-09</td>\n",
       "      <td>Cambiacasacca</td>\n",
       "      <td>[]</td>\n",
       "      <td>641</td>\n",
       "    </tr>\n",
       "    <tr>\n",
       "      <th>5112</th>\n",
       "      <td>pass vaccinale potremmo usare app immu</td>\n",
       "      <td>2021-04-18</td>\n",
       "      <td>Antonio Polito</td>\n",
       "      <td>[]</td>\n",
       "      <td>635</td>\n",
       "    </tr>\n",
       "    <tr>\n",
       "      <th>9730</th>\n",
       "      <td>quindi promotori propaganda app immuni scarica...</td>\n",
       "      <td>2020-10-05</td>\n",
       "      <td>Bonnie</td>\n",
       "      <td>['lorenzin', 'problemaaltelefono', 'appimmuni']</td>\n",
       "      <td>622</td>\n",
       "    </tr>\n",
       "    <tr>\n",
       "      <th>4455</th>\n",
       "      <td>immuni ragazzi dimentichiamo fantastica app ga...</td>\n",
       "      <td>2021-03-05</td>\n",
       "      <td>Cambiacasacca</td>\n",
       "      <td>[]</td>\n",
       "      <td>549</td>\n",
       "    </tr>\n",
       "    <tr>\n",
       "      <th>12159</th>\n",
       "      <td>scaricati pure app aggiorna cosa fate cesso pr...</td>\n",
       "      <td>2020-10-06</td>\n",
       "      <td>HannoStatiGliElettoriColRedditoDiCittadinanza</td>\n",
       "      <td>['immuniapp']</td>\n",
       "      <td>501</td>\n",
       "    </tr>\n",
       "    <tr>\n",
       "      <th>5039</th>\n",
       "      <td>rimosso app immuni telefono però stato bello c...</td>\n",
       "      <td>2021-04-13</td>\n",
       "      <td>Daniela Farnese</td>\n",
       "      <td>[]</td>\n",
       "      <td>484</td>\n",
       "    </tr>\n",
       "    <tr>\n",
       "      <th>2121</th>\n",
       "      <td>immuni oggi milioni persone scaricato app down...</td>\n",
       "      <td>2020-09-25</td>\n",
       "      <td>alessandro longo</td>\n",
       "      <td>[]</td>\n",
       "      <td>432</td>\n",
       "    </tr>\n",
       "  </tbody>\n",
       "</table>\n",
       "</div>"
      ],
      "text/plain": [
       "                                                   tweet       date  \\\n",
       "11920      comunque download app torcia immuni immuniapp 2020-07-10   \n",
       "476    giorgia meloni invita italiani scaricare app i... 2020-06-24   \n",
       "5041          tenerezza sola quando controllo app immuni 2021-04-13   \n",
       "474    trovo assolutamente irresponsabile atteggiamen... 2020-06-24   \n",
       "1286   uso app immuni comunicato codice tre volte fun... 2020-07-29   \n",
       "5095   alimentare app immuni potremmo usare energia c... 2021-04-18   \n",
       "4310   dopo mesi arrivata notifica app immuni dice ch... 2021-02-21   \n",
       "5387   credo molto vaccini vera svolta uscire pandemi... 2021-05-10   \n",
       "5609   amici consiglio far fare green pass stessa fin... 2021-06-09   \n",
       "5112              pass vaccinale potremmo usare app immu 2021-04-18   \n",
       "9730   quindi promotori propaganda app immuni scarica... 2020-10-05   \n",
       "4455   immuni ragazzi dimentichiamo fantastica app ga... 2021-03-05   \n",
       "12159  scaricati pure app aggiorna cosa fate cesso pr... 2020-10-06   \n",
       "5039   rimosso app immuni telefono però stato bello c... 2021-04-13   \n",
       "2121   immuni oggi milioni persone scaricato app down... 2020-09-25   \n",
       "\n",
       "                                                name  \\\n",
       "11920                               Le frasi di Osho   \n",
       "476                              Cathy La Torre 🏳️‍🌈   \n",
       "5041                                  stefania pinna   \n",
       "474                                Gregorio de Falco   \n",
       "1286                                    Matt Novells   \n",
       "5095                                   Carlo Calenda   \n",
       "4310                                     Dorian Gray   \n",
       "5387                                  Fabio Di Iorio   \n",
       "5609                                   Cambiacasacca   \n",
       "5112                                  Antonio Polito   \n",
       "9730                                          Bonnie   \n",
       "4455                                   Cambiacasacca   \n",
       "12159  HannoStatiGliElettoriColRedditoDiCittadinanza   \n",
       "5039                                 Daniela Farnese   \n",
       "2121                                alessandro longo   \n",
       "\n",
       "                                              hashtags  likes_count  \n",
       "11920                                    ['immuniapp']         4141  \n",
       "476                                                 []         3624  \n",
       "5041                                                []         1474  \n",
       "474                                                 []         1019  \n",
       "1286                                                []          931  \n",
       "5095                                                []          920  \n",
       "4310                                                []          758  \n",
       "5387                                                []          689  \n",
       "5609                                                []          641  \n",
       "5112                                                []          635  \n",
       "9730   ['lorenzin', 'problemaaltelefono', 'appimmuni']          622  \n",
       "4455                                                []          549  \n",
       "12159                                    ['immuniapp']          501  \n",
       "5039                                                []          484  \n",
       "2121                                                []          432  "
      ]
     },
     "execution_count": 27,
     "metadata": {},
     "output_type": "execute_result"
    }
   ],
   "source": [
    "#estraggo i 10 tweets puù retweettati che si presume siano quelli andati amggiormente virali su twitter\n",
    "df_final.sort_values(by='likes_count', ascending=False)[['tweet', 'date', 'name', 'hashtags', 'likes_count']].head(n=15)"
   ]
  },
  {
   "cell_type": "code",
   "execution_count": 28,
   "id": "3d832866",
   "metadata": {
    "scrolled": true
   },
   "outputs": [
    {
     "data": {
      "text/html": [
       "<div>\n",
       "<style scoped>\n",
       "    .dataframe tbody tr th:only-of-type {\n",
       "        vertical-align: middle;\n",
       "    }\n",
       "\n",
       "    .dataframe tbody tr th {\n",
       "        vertical-align: top;\n",
       "    }\n",
       "\n",
       "    .dataframe thead th {\n",
       "        text-align: right;\n",
       "    }\n",
       "</style>\n",
       "<table border=\"1\" class=\"dataframe\">\n",
       "  <thead>\n",
       "    <tr style=\"text-align: right;\">\n",
       "      <th></th>\n",
       "      <th>tweet</th>\n",
       "      <th>date</th>\n",
       "      <th>name</th>\n",
       "      <th>hashtags</th>\n",
       "      <th>retweets_count</th>\n",
       "    </tr>\n",
       "  </thead>\n",
       "  <tbody>\n",
       "    <tr>\n",
       "      <th>11920</th>\n",
       "      <td>comunque download app torcia immuni immuniapp</td>\n",
       "      <td>2020-07-10</td>\n",
       "      <td>Le frasi di Osho</td>\n",
       "      <td>['immuniapp']</td>\n",
       "      <td>597</td>\n",
       "    </tr>\n",
       "    <tr>\n",
       "      <th>476</th>\n",
       "      <td>giorgia meloni invita italiani scaricare app i...</td>\n",
       "      <td>2020-06-24</td>\n",
       "      <td>Cathy La Torre 🏳️‍🌈</td>\n",
       "      <td>[]</td>\n",
       "      <td>502</td>\n",
       "    </tr>\n",
       "    <tr>\n",
       "      <th>9730</th>\n",
       "      <td>quindi promotori propaganda app immuni scarica...</td>\n",
       "      <td>2020-10-05</td>\n",
       "      <td>Bonnie</td>\n",
       "      <td>['lorenzin', 'problemaaltelefono', 'appimmuni']</td>\n",
       "      <td>260</td>\n",
       "    </tr>\n",
       "    <tr>\n",
       "      <th>474</th>\n",
       "      <td>trovo assolutamente irresponsabile atteggiamen...</td>\n",
       "      <td>2020-06-24</td>\n",
       "      <td>Gregorio de Falco</td>\n",
       "      <td>[]</td>\n",
       "      <td>178</td>\n",
       "    </tr>\n",
       "    <tr>\n",
       "      <th>4571</th>\n",
       "      <td>app immuni funzionato piano vaccinale mai prep...</td>\n",
       "      <td>2021-03-12</td>\n",
       "      <td>𝓞𝓫𝓵𝓸𝓶𝓸𝓿</td>\n",
       "      <td>[]</td>\n",
       "      <td>144</td>\n",
       "    </tr>\n",
       "    <tr>\n",
       "      <th>2121</th>\n",
       "      <td>immuni oggi milioni persone scaricato app down...</td>\n",
       "      <td>2020-09-25</td>\n",
       "      <td>alessandro longo</td>\n",
       "      <td>[]</td>\n",
       "      <td>132</td>\n",
       "    </tr>\n",
       "    <tr>\n",
       "      <th>5609</th>\n",
       "      <td>amici consiglio far fare green pass stessa fin...</td>\n",
       "      <td>2021-06-09</td>\n",
       "      <td>Cambiacasacca</td>\n",
       "      <td>[]</td>\n",
       "      <td>125</td>\n",
       "    </tr>\n",
       "    <tr>\n",
       "      <th>4455</th>\n",
       "      <td>immuni ragazzi dimentichiamo fantastica app ga...</td>\n",
       "      <td>2021-03-05</td>\n",
       "      <td>Cambiacasacca</td>\n",
       "      <td>[]</td>\n",
       "      <td>115</td>\n",
       "    </tr>\n",
       "    <tr>\n",
       "      <th>7557</th>\n",
       "      <td>appimmuni potrà funzionare tampone dipendente ...</td>\n",
       "      <td>2020-06-05</td>\n",
       "      <td>Nino Cartabellotta</td>\n",
       "      <td>['appimmuni', 'tampone', 'iostocongimbe', 'cov...</td>\n",
       "      <td>114</td>\n",
       "    </tr>\n",
       "    <tr>\n",
       "      <th>1688</th>\n",
       "      <td>app immuni scaricata qualcuno confermate solo ...</td>\n",
       "      <td>2020-08-23</td>\n",
       "      <td>Federica 🇮🇹🇮🇹🇮🇹</td>\n",
       "      <td>['immuni', 'mascherina', 'vaccino', 'microchip...</td>\n",
       "      <td>106</td>\n",
       "    </tr>\n",
       "    <tr>\n",
       "      <th>1831</th>\n",
       "      <td>estero desideri entrare italia scarica immuni ...</td>\n",
       "      <td>2020-09-08</td>\n",
       "      <td>Farnesina 🇮🇹</td>\n",
       "      <td>['covid19', 'iousoimmuni']</td>\n",
       "      <td>103</td>\n",
       "    </tr>\n",
       "    <tr>\n",
       "      <th>4200</th>\n",
       "      <td>flop immuni social arcuri pagato ogni like pag...</td>\n",
       "      <td>2021-02-11</td>\n",
       "      <td>antonluca cuoco</td>\n",
       "      <td>['immuni', 'italia']</td>\n",
       "      <td>93</td>\n",
       "    </tr>\n",
       "    <tr>\n",
       "      <th>9976</th>\n",
       "      <td>vicino casa potrà segnalare appartamento conti...</td>\n",
       "      <td>2020-10-12</td>\n",
       "      <td>Avv. Giuseppe PALMA</td>\n",
       "      <td>['appimmuni', 'appinfami', 'delazione', 'cines...</td>\n",
       "      <td>91</td>\n",
       "    </tr>\n",
       "    <tr>\n",
       "      <th>4310</th>\n",
       "      <td>dopo mesi arrivata notifica app immuni dice ch...</td>\n",
       "      <td>2021-02-21</td>\n",
       "      <td>Dorian Gray</td>\n",
       "      <td>[]</td>\n",
       "      <td>86</td>\n",
       "    </tr>\n",
       "    <tr>\n",
       "      <th>1553</th>\n",
       "      <td>eccoli eccoli primi stronzi sindaci obblighera...</td>\n",
       "      <td>2020-08-10</td>\n",
       "      <td>Minuteman - Italy 🇮🇹</td>\n",
       "      <td>[]</td>\n",
       "      <td>84</td>\n",
       "    </tr>\n",
       "  </tbody>\n",
       "</table>\n",
       "</div>"
      ],
      "text/plain": [
       "                                                   tweet       date  \\\n",
       "11920      comunque download app torcia immuni immuniapp 2020-07-10   \n",
       "476    giorgia meloni invita italiani scaricare app i... 2020-06-24   \n",
       "9730   quindi promotori propaganda app immuni scarica... 2020-10-05   \n",
       "474    trovo assolutamente irresponsabile atteggiamen... 2020-06-24   \n",
       "4571   app immuni funzionato piano vaccinale mai prep... 2021-03-12   \n",
       "2121   immuni oggi milioni persone scaricato app down... 2020-09-25   \n",
       "5609   amici consiglio far fare green pass stessa fin... 2021-06-09   \n",
       "4455   immuni ragazzi dimentichiamo fantastica app ga... 2021-03-05   \n",
       "7557   appimmuni potrà funzionare tampone dipendente ... 2020-06-05   \n",
       "1688   app immuni scaricata qualcuno confermate solo ... 2020-08-23   \n",
       "1831   estero desideri entrare italia scarica immuni ... 2020-09-08   \n",
       "4200   flop immuni social arcuri pagato ogni like pag... 2021-02-11   \n",
       "9976   vicino casa potrà segnalare appartamento conti... 2020-10-12   \n",
       "4310   dopo mesi arrivata notifica app immuni dice ch... 2021-02-21   \n",
       "1553   eccoli eccoli primi stronzi sindaci obblighera... 2020-08-10   \n",
       "\n",
       "                       name  \\\n",
       "11920      Le frasi di Osho   \n",
       "476     Cathy La Torre 🏳️‍🌈   \n",
       "9730                 Bonnie   \n",
       "474       Gregorio de Falco   \n",
       "4571                𝓞𝓫𝓵𝓸𝓶𝓸𝓿   \n",
       "2121       alessandro longo   \n",
       "5609          Cambiacasacca   \n",
       "4455          Cambiacasacca   \n",
       "7557     Nino Cartabellotta   \n",
       "1688        Federica 🇮🇹🇮🇹🇮🇹   \n",
       "1831           Farnesina 🇮🇹   \n",
       "4200        antonluca cuoco   \n",
       "9976    Avv. Giuseppe PALMA   \n",
       "4310            Dorian Gray   \n",
       "1553   Minuteman - Italy 🇮🇹   \n",
       "\n",
       "                                                hashtags  retweets_count  \n",
       "11920                                      ['immuniapp']             597  \n",
       "476                                                   []             502  \n",
       "9730     ['lorenzin', 'problemaaltelefono', 'appimmuni']             260  \n",
       "474                                                   []             178  \n",
       "4571                                                  []             144  \n",
       "2121                                                  []             132  \n",
       "5609                                                  []             125  \n",
       "4455                                                  []             115  \n",
       "7557   ['appimmuni', 'tampone', 'iostocongimbe', 'cov...             114  \n",
       "1688   ['immuni', 'mascherina', 'vaccino', 'microchip...             106  \n",
       "1831                          ['covid19', 'iousoimmuni']             103  \n",
       "4200                                ['immuni', 'italia']              93  \n",
       "9976   ['appimmuni', 'appinfami', 'delazione', 'cines...              91  \n",
       "4310                                                  []              86  \n",
       "1553                                                  []              84  "
      ]
     },
     "execution_count": 28,
     "metadata": {},
     "output_type": "execute_result"
    }
   ],
   "source": [
    "#estraggo i 10 tweets puù retweettati che si presume siano quelli andati amggiormente virali su twitter\n",
    "df_final.sort_values(by='retweets_count', ascending=False)[['tweet', 'date', 'name', 'hashtags', 'retweets_count']].head(n=15)"
   ]
  },
  {
   "cell_type": "code",
   "execution_count": 29,
   "id": "6b3c0ec7",
   "metadata": {
    "scrolled": true
   },
   "outputs": [
    {
     "data": {
      "text/html": [
       "<div>\n",
       "<style scoped>\n",
       "    .dataframe tbody tr th:only-of-type {\n",
       "        vertical-align: middle;\n",
       "    }\n",
       "\n",
       "    .dataframe tbody tr th {\n",
       "        vertical-align: top;\n",
       "    }\n",
       "\n",
       "    .dataframe thead th {\n",
       "        text-align: right;\n",
       "    }\n",
       "</style>\n",
       "<table border=\"1\" class=\"dataframe\">\n",
       "  <thead>\n",
       "    <tr style=\"text-align: right;\">\n",
       "      <th></th>\n",
       "      <th>tweet</th>\n",
       "      <th>date</th>\n",
       "      <th>name</th>\n",
       "      <th>hashtags</th>\n",
       "      <th>replies_count</th>\n",
       "    </tr>\n",
       "  </thead>\n",
       "  <tbody>\n",
       "    <tr>\n",
       "      <th>9922</th>\n",
       "      <td>voglio cedere dati scatola chiusa privacy cosa...</td>\n",
       "      <td>2020-10-10</td>\n",
       "      <td>Daniela Santanchè</td>\n",
       "      <td>['privacy', 'appimmuni', 'covid19']</td>\n",
       "      <td>334</td>\n",
       "    </tr>\n",
       "    <tr>\n",
       "      <th>4798</th>\n",
       "      <td>ancora app immuni telefono</td>\n",
       "      <td>2021-03-24</td>\n",
       "      <td>sette e trentuno 🏳️‍🌈</td>\n",
       "      <td>[]</td>\n",
       "      <td>266</td>\n",
       "    </tr>\n",
       "    <tr>\n",
       "      <th>840</th>\n",
       "      <td>qualcuno dirmi fine fatto app immuni sente par...</td>\n",
       "      <td>2020-07-06</td>\n",
       "      <td>ninibisagno</td>\n",
       "      <td>[]</td>\n",
       "      <td>143</td>\n",
       "    </tr>\n",
       "    <tr>\n",
       "      <th>1688</th>\n",
       "      <td>app immuni scaricata qualcuno confermate solo ...</td>\n",
       "      <td>2020-08-23</td>\n",
       "      <td>Federica 🇮🇹🇮🇹🇮🇹</td>\n",
       "      <td>['immuni', 'mascherina', 'vaccino', 'microchip...</td>\n",
       "      <td>131</td>\n",
       "    </tr>\n",
       "    <tr>\n",
       "      <th>3238</th>\n",
       "      <td>immuni fine fatto app spia</td>\n",
       "      <td>2020-11-21</td>\n",
       "      <td>me-gon. 🖤💙</td>\n",
       "      <td>[]</td>\n",
       "      <td>126</td>\n",
       "    </tr>\n",
       "    <tr>\n",
       "      <th>5112</th>\n",
       "      <td>pass vaccinale potremmo usare app immu</td>\n",
       "      <td>2021-04-18</td>\n",
       "      <td>Antonio Polito</td>\n",
       "      <td>[]</td>\n",
       "      <td>123</td>\n",
       "    </tr>\n",
       "    <tr>\n",
       "      <th>11920</th>\n",
       "      <td>comunque download app torcia immuni immuniapp</td>\n",
       "      <td>2020-07-10</td>\n",
       "      <td>Le frasi di Osho</td>\n",
       "      <td>['immuniapp']</td>\n",
       "      <td>115</td>\n",
       "    </tr>\n",
       "    <tr>\n",
       "      <th>5014</th>\n",
       "      <td>app immuni passaporto vaccinale idea colao</td>\n",
       "      <td>2021-04-13</td>\n",
       "      <td>Corriere della Sera</td>\n",
       "      <td>[]</td>\n",
       "      <td>113</td>\n",
       "    </tr>\n",
       "    <tr>\n",
       "      <th>893</th>\n",
       "      <td>accusa ricciardi pochi hano scaricato app immu...</td>\n",
       "      <td>2020-07-08</td>\n",
       "      <td>Globalist.it</td>\n",
       "      <td>[]</td>\n",
       "      <td>103</td>\n",
       "    </tr>\n",
       "    <tr>\n",
       "      <th>3910</th>\n",
       "      <td>twett brevissimo app immuni fine fatto</td>\n",
       "      <td>2021-01-22</td>\n",
       "      <td>il bianconero</td>\n",
       "      <td>[]</td>\n",
       "      <td>97</td>\n",
       "    </tr>\n",
       "    <tr>\n",
       "      <th>4647</th>\n",
       "      <td>app immuni cosa servita pensierino</td>\n",
       "      <td>2021-03-17</td>\n",
       "      <td>Flaminia🍷🧱🍽</td>\n",
       "      <td>['immuni', 'pensierino']</td>\n",
       "      <td>89</td>\n",
       "    </tr>\n",
       "    <tr>\n",
       "      <th>12669</th>\n",
       "      <td>tracciamento fallito inapplicabile virus vedi ...</td>\n",
       "      <td>2020-10-31</td>\n",
       "      <td>Daniela Santanchè</td>\n",
       "      <td>['tracciamento', 'governodellavergogna', 'immu...</td>\n",
       "      <td>87</td>\n",
       "    </tr>\n",
       "    <tr>\n",
       "      <th>5095</th>\n",
       "      <td>alimentare app immuni potremmo usare energia c...</td>\n",
       "      <td>2021-04-18</td>\n",
       "      <td>Carlo Calenda</td>\n",
       "      <td>[]</td>\n",
       "      <td>85</td>\n",
       "    </tr>\n",
       "    <tr>\n",
       "      <th>5041</th>\n",
       "      <td>tenerezza sola quando controllo app immuni</td>\n",
       "      <td>2021-04-13</td>\n",
       "      <td>stefania pinna</td>\n",
       "      <td>[]</td>\n",
       "      <td>80</td>\n",
       "    </tr>\n",
       "    <tr>\n",
       "      <th>10054</th>\n",
       "      <td>mancano medici infermieri appimmuni inutile va...</td>\n",
       "      <td>2020-10-16</td>\n",
       "      <td>Daniela Santanchè</td>\n",
       "      <td>['appimmuni', 'conte', 'speranza', 'contagi', ...</td>\n",
       "      <td>78</td>\n",
       "    </tr>\n",
       "  </tbody>\n",
       "</table>\n",
       "</div>"
      ],
      "text/plain": [
       "                                                   tweet       date  \\\n",
       "9922   voglio cedere dati scatola chiusa privacy cosa... 2020-10-10   \n",
       "4798                          ancora app immuni telefono 2021-03-24   \n",
       "840    qualcuno dirmi fine fatto app immuni sente par... 2020-07-06   \n",
       "1688   app immuni scaricata qualcuno confermate solo ... 2020-08-23   \n",
       "3238                          immuni fine fatto app spia 2020-11-21   \n",
       "5112              pass vaccinale potremmo usare app immu 2021-04-18   \n",
       "11920      comunque download app torcia immuni immuniapp 2020-07-10   \n",
       "5014          app immuni passaporto vaccinale idea colao 2021-04-13   \n",
       "893    accusa ricciardi pochi hano scaricato app immu... 2020-07-08   \n",
       "3910              twett brevissimo app immuni fine fatto 2021-01-22   \n",
       "4647                  app immuni cosa servita pensierino 2021-03-17   \n",
       "12669  tracciamento fallito inapplicabile virus vedi ... 2020-10-31   \n",
       "5095   alimentare app immuni potremmo usare energia c... 2021-04-18   \n",
       "5041          tenerezza sola quando controllo app immuni 2021-04-13   \n",
       "10054  mancano medici infermieri appimmuni inutile va... 2020-10-16   \n",
       "\n",
       "                        name  \\\n",
       "9922       Daniela Santanchè   \n",
       "4798   sette e trentuno 🏳️‍🌈   \n",
       "840              ninibisagno   \n",
       "1688         Federica 🇮🇹🇮🇹🇮🇹   \n",
       "3238              me-gon. 🖤💙   \n",
       "5112          Antonio Polito   \n",
       "11920       Le frasi di Osho   \n",
       "5014     Corriere della Sera   \n",
       "893             Globalist.it   \n",
       "3910           il bianconero   \n",
       "4647             Flaminia🍷🧱🍽   \n",
       "12669      Daniela Santanchè   \n",
       "5095           Carlo Calenda   \n",
       "5041          stefania pinna   \n",
       "10054      Daniela Santanchè   \n",
       "\n",
       "                                                hashtags  replies_count  \n",
       "9922                 ['privacy', 'appimmuni', 'covid19']            334  \n",
       "4798                                                  []            266  \n",
       "840                                                   []            143  \n",
       "1688   ['immuni', 'mascherina', 'vaccino', 'microchip...            131  \n",
       "3238                                                  []            126  \n",
       "5112                                                  []            123  \n",
       "11920                                      ['immuniapp']            115  \n",
       "5014                                                  []            113  \n",
       "893                                                   []            103  \n",
       "3910                                                  []             97  \n",
       "4647                            ['immuni', 'pensierino']             89  \n",
       "12669  ['tracciamento', 'governodellavergogna', 'immu...             87  \n",
       "5095                                                  []             85  \n",
       "5041                                                  []             80  \n",
       "10054  ['appimmuni', 'conte', 'speranza', 'contagi', ...             78  "
      ]
     },
     "execution_count": 29,
     "metadata": {},
     "output_type": "execute_result"
    }
   ],
   "source": [
    "#estraggo i 10 tweets puù retweettati che si presume siano quelli andati amggiormente virali su twitter\n",
    "df_final.sort_values(by='replies_count', ascending=False)[['tweet', 'date', 'name', 'hashtags', 'replies_count']].head(n=15)"
   ]
  },
  {
   "cell_type": "markdown",
   "id": "aba272c2",
   "metadata": {},
   "source": [
    "È interessante come i primi due tweets più virali siano li stessi e sono entrambi di carattere negativo, il primo scherza sui download dell'app immuni, che sono minori persino dei download della torcia e il secondo è sempre ironico e riguada la politica.\n",
    "\n",
    "Imoltre, uno dei tweet più popolari in termini di likes, rt e mezioni e quello di Matteo Salvini, il quale mostra lui stesso perplessità sull'app non fidandosi di cedere i dati"
   ]
  },
  {
   "cell_type": "raw",
   "id": "ad9acfe8",
   "metadata": {},
   "source": [
    "#estraggo i 10 tweets puù retweettati che si presume siano quelli andati amggiormente virali su twitter\n",
    "df_final.sort_values(by='replies_count', ascending=False)[['tweet_clean', 'date', 'name', 'hashtags', 'replies_count']].head(n=15)"
   ]
  },
  {
   "cell_type": "markdown",
   "id": "7e4af0a6",
   "metadata": {},
   "source": [
    "Ordinando i tweet in base al numero di risposte si nota come siano li stessi politici (come Daniele Santanché e Matteo Salvini) a scribere tweet perplessi sul tema, segno della scarsa organizzazione politica "
   ]
  },
  {
   "cell_type": "markdown",
   "id": "0f83bb26",
   "metadata": {},
   "source": [
    "### Numero di Likes, menzioni e rt"
   ]
  },
  {
   "cell_type": "code",
   "execution_count": 30,
   "id": "e1cb00a7",
   "metadata": {},
   "outputs": [
    {
     "data": {
      "text/html": [
       "<div>\n",
       "<style scoped>\n",
       "    .dataframe tbody tr th:only-of-type {\n",
       "        vertical-align: middle;\n",
       "    }\n",
       "\n",
       "    .dataframe tbody tr th {\n",
       "        vertical-align: top;\n",
       "    }\n",
       "\n",
       "    .dataframe thead th {\n",
       "        text-align: right;\n",
       "    }\n",
       "</style>\n",
       "<table border=\"1\" class=\"dataframe\">\n",
       "  <thead>\n",
       "    <tr style=\"text-align: right;\">\n",
       "      <th></th>\n",
       "      <th>date</th>\n",
       "      <th>user_id</th>\n",
       "      <th>username</th>\n",
       "      <th>name</th>\n",
       "      <th>tweet</th>\n",
       "      <th>mentions</th>\n",
       "      <th>replies_count</th>\n",
       "      <th>retweets_count</th>\n",
       "      <th>likes_count</th>\n",
       "      <th>hashtags</th>\n",
       "      <th>reply_to</th>\n",
       "      <th>hashtag_count</th>\n",
       "      <th>ment_count</th>\n",
       "    </tr>\n",
       "  </thead>\n",
       "  <tbody>\n",
       "    <tr>\n",
       "      <th>0</th>\n",
       "      <td>2020-06-04</td>\n",
       "      <td>266910319</td>\n",
       "      <td>appleforyou83</td>\n",
       "      <td>Theappleforyou</td>\n",
       "      <td>immuni app contenere contagi covid fase vers</td>\n",
       "      <td>[]</td>\n",
       "      <td>0</td>\n",
       "      <td>0</td>\n",
       "      <td>0</td>\n",
       "      <td>[]</td>\n",
       "      <td>[]</td>\n",
       "      <td>0</td>\n",
       "      <td>0</td>\n",
       "    </tr>\n",
       "    <tr>\n",
       "      <th>1</th>\n",
       "      <td>2020-06-04</td>\n",
       "      <td>1092893394</td>\n",
       "      <td>annafornasetti</td>\n",
       "      <td>안나 ★彡𓂀🫒</td>\n",
       "      <td>valà piergianfranco lotta privacy chissà azion...</td>\n",
       "      <td>[]</td>\n",
       "      <td>1</td>\n",
       "      <td>0</td>\n",
       "      <td>0</td>\n",
       "      <td>[]</td>\n",
       "      <td>[]</td>\n",
       "      <td>0</td>\n",
       "      <td>0</td>\n",
       "    </tr>\n",
       "  </tbody>\n",
       "</table>\n",
       "</div>"
      ],
      "text/plain": [
       "        date     user_id        username            name  \\\n",
       "0 2020-06-04   266910319   appleforyou83  Theappleforyou   \n",
       "1 2020-06-04  1092893394  annafornasetti         안나 ★彡𓂀🫒   \n",
       "\n",
       "                                               tweet mentions  replies_count  \\\n",
       "0       immuni app contenere contagi covid fase vers       []              0   \n",
       "1  valà piergianfranco lotta privacy chissà azion...       []              1   \n",
       "\n",
       "   retweets_count  likes_count hashtags reply_to  hashtag_count  ment_count  \n",
       "0               0            0       []       []              0           0  \n",
       "1               0            0       []       []              0           0  "
      ]
     },
     "execution_count": 30,
     "metadata": {},
     "output_type": "execute_result"
    }
   ],
   "source": [
    "df_final.head(2)"
   ]
  },
  {
   "cell_type": "code",
   "execution_count": 31,
   "id": "17d03d98",
   "metadata": {},
   "outputs": [],
   "source": [
    "#istogramma che rappresenta il numero di hashtags utilizzati e di menzioni contenute in ciascun tweet"
   ]
  },
  {
   "cell_type": "code",
   "execution_count": 32,
   "id": "f943547b",
   "metadata": {},
   "outputs": [
    {
     "data": {
      "image/png": "[encoded data removed]",
      "text/plain": [
       "<Figure size 720x432 with 1 Axes>"
      ]
     },
     "metadata": {
      "needs_background": "light"
     },
     "output_type": "display_data"
    }
   ],
   "source": [
    "fig = plt.figure(figsize=(10, 6))\n",
    "df_final['hashtag_count'].hist(color = 'green')\n",
    "#df['token_lunghezza_media'].value_counts().plot(kind='hist', color = '#e7298a')\n",
    "plt.ylabel(\"Numero Tweet\", fontsize=18)\n",
    "plt.xlabel('Lunghezza tweet', fontsize=18)\n",
    "plt.xticks(fontsize=16)\n",
    "plt.yticks(fontsize=16)\n",
    "fig.savefig(\"img/ment:count.png\")"
   ]
  },
  {
   "cell_type": "code",
   "execution_count": 33,
   "id": "4fe731da",
   "metadata": {},
   "outputs": [
    {
     "data": {
      "image/png": "[encoded data removed]",
      "text/plain": [
       "<Figure size 720x432 with 1 Axes>"
      ]
     },
     "metadata": {
      "needs_background": "light"
     },
     "output_type": "display_data"
    }
   ],
   "source": [
    "fig = plt.figure(figsize=(10, 6))\n",
    "df_final['ment_count'].hist(color = 'blue')\n",
    "#df['token_lunghezza_media'].value_counts().plot(kind='hist', color = '#e7298a')\n",
    "plt.ylabel(\"Numero Tweet\", fontsize=18)\n",
    "plt.xlabel('Lunghezza tweet', fontsize=18)\n",
    "plt.xticks(fontsize=16)\n",
    "plt.yticks(fontsize=16)\n",
    "fig.savefig(\"img/hashtags_count.png\")"
   ]
  },
  {
   "cell_type": "code",
   "execution_count": 34,
   "id": "ff999bf5",
   "metadata": {},
   "outputs": [
    {
     "name": "stdout",
     "output_type": "stream",
     "text": [
      "Valore massimo dei likes e'  4141\n",
      "Valore minimo dei likes e'  0\n"
     ]
    }
   ],
   "source": [
    "print(\"Valore massimo dei likes e' \", df_final['likes_count'].max())\n",
    "print(\"Valore minimo dei likes e' \", df_final['likes_count'].min())"
   ]
  },
  {
   "cell_type": "code",
   "execution_count": 35,
   "id": "b15372f9",
   "metadata": {},
   "outputs": [
    {
     "name": "stdout",
     "output_type": "stream",
     "text": [
      "Valore massimo dei rt e'  597\n",
      "Valore minimo dei rt e'  0\n"
     ]
    }
   ],
   "source": [
    "print(\"Valore massimo dei rt e' \", df_final['retweets_count'].max())\n",
    "print(\"Valore minimo dei rt e' \", df_final['retweets_count'].min())"
   ]
  },
  {
   "cell_type": "code",
   "execution_count": 36,
   "id": "0c72cb51",
   "metadata": {},
   "outputs": [],
   "source": [
    "tweet_likes  = df_final[df_final['likes_count'] >= 15]['tweet'].apply(lambda x: len(x) - len(' '))\n",
    "tweet_rt = df_final[df_final['retweets_count'] >= 10]['tweet'].apply(lambda x: len(x) - len(' '))\n",
    "tweet_reply = df_final[df_final['replies_count'] >= 10]['tweet'].apply(lambda x: len(x) - len(' '))"
   ]
  },
  {
   "cell_type": "code",
   "execution_count": 37,
   "id": "72fa076e",
   "metadata": {},
   "outputs": [
    {
     "data": {
      "text/plain": [
       "<matplotlib.legend.Legend at 0x25e62e19e50>"
      ]
     },
     "execution_count": 37,
     "metadata": {},
     "output_type": "execute_result"
    },
    {
     "data": {
      "image/png": "[encoded data removed]",
      "text/plain": [
       "<Figure size 1008x432 with 1 Axes>"
      ]
     },
     "metadata": {
      "needs_background": "light"
     },
     "output_type": "display_data"
    }
   ],
   "source": [
    "bins_ = np.linspace(0, 310, 100)\n",
    "plt.figure(figsize=(14,6))\n",
    "plt.hist(tweet_likes, bins= bins_, alpha = 0.6, label = 'likes')\n",
    "plt.hist(tweet_rt, bins=bins_, alpha = 0.6, label = 'retweets')\n",
    "plt.hist(tweet_reply, bins=bins_, alpha = 0.6, label = 'risposte')\n",
    "plt.xlabel('Numero likes e retweets', fontsize=14)\n",
    "plt.ylabel('Numero di Tweets', fontsize=14)\n",
    "plt.savefig('likes_rt_mentions_df_final.jpg')\n",
    "plt.legend()"
   ]
  },
  {
   "cell_type": "code",
   "execution_count": 38,
   "id": "3d45e17a",
   "metadata": {},
   "outputs": [
    {
     "data": {
      "text/html": [
       "<div>\n",
       "<style scoped>\n",
       "    .dataframe tbody tr th:only-of-type {\n",
       "        vertical-align: middle;\n",
       "    }\n",
       "\n",
       "    .dataframe tbody tr th {\n",
       "        vertical-align: top;\n",
       "    }\n",
       "\n",
       "    .dataframe thead th {\n",
       "        text-align: right;\n",
       "    }\n",
       "</style>\n",
       "<table border=\"1\" class=\"dataframe\">\n",
       "  <thead>\n",
       "    <tr style=\"text-align: right;\">\n",
       "      <th></th>\n",
       "      <th>tweet</th>\n",
       "      <th>date</th>\n",
       "      <th>user_id</th>\n",
       "      <th>hashtags</th>\n",
       "      <th>retweets_count</th>\n",
       "    </tr>\n",
       "  </thead>\n",
       "  <tbody>\n",
       "    <tr>\n",
       "      <th>7049</th>\n",
       "      <td>ecco seconda parte progress altri esperti spie...</td>\n",
       "      <td>2020-06-01</td>\n",
       "      <td>855102985541758978</td>\n",
       "      <td>['progress', 'appimmuni']</td>\n",
       "      <td>0</td>\n",
       "    </tr>\n",
       "    <tr>\n",
       "      <th>7100</th>\n",
       "      <td>coronavirus appimmuni online</td>\n",
       "      <td>2020-06-01</td>\n",
       "      <td>329607652</td>\n",
       "      <td>['coronavirus', 'appimmuni']</td>\n",
       "      <td>0</td>\n",
       "    </tr>\n",
       "    <tr>\n",
       "      <th>7101</th>\n",
       "      <td>immuniapp finalmente pronta app immuni servirà...</td>\n",
       "      <td>2020-06-01</td>\n",
       "      <td>78901034</td>\n",
       "      <td>['immuniapp', 'immuni', 'coronavirus', '1giugn...</td>\n",
       "      <td>0</td>\n",
       "    </tr>\n",
       "    <tr>\n",
       "      <th>7102</th>\n",
       "      <td>buon senso senso civico appimmuni coviditalia</td>\n",
       "      <td>2020-06-01</td>\n",
       "      <td>2576125221</td>\n",
       "      <td>['appimmuni', 'covid19italia']</td>\n",
       "      <td>0</td>\n",
       "    </tr>\n",
       "    <tr>\n",
       "      <th>7103</th>\n",
       "      <td>finalmente pronta app immuni servirà verificar...</td>\n",
       "      <td>2020-06-01</td>\n",
       "      <td>1413730903</td>\n",
       "      <td>['immuni', 'virus', '1giugno', 'appimmuni']</td>\n",
       "      <td>2</td>\n",
       "    </tr>\n",
       "    <tr>\n",
       "      <th>7104</th>\n",
       "      <td>app immuni disponibile download parte giorno r...</td>\n",
       "      <td>2020-06-01</td>\n",
       "      <td>1038417554480480257</td>\n",
       "      <td>['immuni', 'liguria', 'puglia', 'abruzzo', 'ma...</td>\n",
       "      <td>0</td>\n",
       "    </tr>\n",
       "    <tr>\n",
       "      <th>7105</th>\n",
       "      <td>appimmuni arrivata</td>\n",
       "      <td>2020-06-01</td>\n",
       "      <td>2432948813</td>\n",
       "      <td>['appimmuni']</td>\n",
       "      <td>0</td>\n",
       "    </tr>\n",
       "    <tr>\n",
       "      <th>7106</th>\n",
       "      <td>app immuni ora disponibile play store android ...</td>\n",
       "      <td>2020-06-01</td>\n",
       "      <td>21999018</td>\n",
       "      <td>['immuni', 'android', 'iphone', 'appimmuni', '...</td>\n",
       "      <td>0</td>\n",
       "    </tr>\n",
       "    <tr>\n",
       "      <th>7107</th>\n",
       "      <td>ricordate oggi esistono decine multinazionali ...</td>\n",
       "      <td>2020-06-01</td>\n",
       "      <td>2797440824</td>\n",
       "      <td>['appimmuni', 'immuniapp', 'immuni', 'covid19']</td>\n",
       "      <td>1</td>\n",
       "    </tr>\n",
       "    <tr>\n",
       "      <th>7108</th>\n",
       "      <td>scaricherò appimmuni vedo serietà capo stato o...</td>\n",
       "      <td>2020-06-01</td>\n",
       "      <td>1182035380893339648</td>\n",
       "      <td>['appimmuni', '2giugno', 'ottoemezzo']</td>\n",
       "      <td>0</td>\n",
       "    </tr>\n",
       "  </tbody>\n",
       "</table>\n",
       "</div>"
      ],
      "text/plain": [
       "                                                  tweet       date  \\\n",
       "7049  ecco seconda parte progress altri esperti spie... 2020-06-01   \n",
       "7100                       coronavirus appimmuni online 2020-06-01   \n",
       "7101  immuniapp finalmente pronta app immuni servirà... 2020-06-01   \n",
       "7102      buon senso senso civico appimmuni coviditalia 2020-06-01   \n",
       "7103  finalmente pronta app immuni servirà verificar... 2020-06-01   \n",
       "7104  app immuni disponibile download parte giorno r... 2020-06-01   \n",
       "7105                                 appimmuni arrivata 2020-06-01   \n",
       "7106  app immuni ora disponibile play store android ... 2020-06-01   \n",
       "7107  ricordate oggi esistono decine multinazionali ... 2020-06-01   \n",
       "7108  scaricherò appimmuni vedo serietà capo stato o... 2020-06-01   \n",
       "\n",
       "                  user_id                                           hashtags  \\\n",
       "7049   855102985541758978                          ['progress', 'appimmuni']   \n",
       "7100            329607652                       ['coronavirus', 'appimmuni']   \n",
       "7101             78901034  ['immuniapp', 'immuni', 'coronavirus', '1giugn...   \n",
       "7102           2576125221                     ['appimmuni', 'covid19italia']   \n",
       "7103           1413730903        ['immuni', 'virus', '1giugno', 'appimmuni']   \n",
       "7104  1038417554480480257  ['immuni', 'liguria', 'puglia', 'abruzzo', 'ma...   \n",
       "7105           2432948813                                      ['appimmuni']   \n",
       "7106             21999018  ['immuni', 'android', 'iphone', 'appimmuni', '...   \n",
       "7107           2797440824    ['appimmuni', 'immuniapp', 'immuni', 'covid19']   \n",
       "7108  1182035380893339648             ['appimmuni', '2giugno', 'ottoemezzo']   \n",
       "\n",
       "      retweets_count  \n",
       "7049               0  \n",
       "7100               0  \n",
       "7101               0  \n",
       "7102               0  \n",
       "7103               2  \n",
       "7104               0  \n",
       "7105               0  \n",
       "7106               0  \n",
       "7107               1  \n",
       "7108               0  "
      ]
     },
     "execution_count": 38,
     "metadata": {},
     "output_type": "execute_result"
    }
   ],
   "source": [
    "df_final.sort_values(by='date', ascending=True)[['tweet', 'date', 'user_id', 'hashtags', 'retweets_count']].head(n=10)"
   ]
  },
  {
   "cell_type": "code",
   "execution_count": 39,
   "id": "fc089941",
   "metadata": {},
   "outputs": [
    {
     "data": {
      "text/html": [
       "<div>\n",
       "<style scoped>\n",
       "    .dataframe tbody tr th:only-of-type {\n",
       "        vertical-align: middle;\n",
       "    }\n",
       "\n",
       "    .dataframe tbody tr th {\n",
       "        vertical-align: top;\n",
       "    }\n",
       "\n",
       "    .dataframe thead th {\n",
       "        text-align: right;\n",
       "    }\n",
       "</style>\n",
       "<table border=\"1\" class=\"dataframe\">\n",
       "  <thead>\n",
       "    <tr style=\"text-align: right;\">\n",
       "      <th></th>\n",
       "      <th>tweet</th>\n",
       "      <th>date</th>\n",
       "      <th>user_id</th>\n",
       "      <th>hashtags</th>\n",
       "      <th>retweets_count</th>\n",
       "    </tr>\n",
       "  </thead>\n",
       "  <tbody>\n",
       "    <tr>\n",
       "      <th>12982</th>\n",
       "      <td>enricoletta cappellini serviva lockdownsubito ...</td>\n",
       "      <td>2021-12-31</td>\n",
       "      <td>866679978</td>\n",
       "      <td>['lockdownsubito', 'omicron', 'obbligovaccinal...</td>\n",
       "      <td>0</td>\n",
       "    </tr>\n",
       "    <tr>\n",
       "      <th>7012</th>\n",
       "      <td>trafello app immuni fatta signorini capito male</td>\n",
       "      <td>2021-11-30</td>\n",
       "      <td>1406986378139820033</td>\n",
       "      <td>[]</td>\n",
       "      <td>0</td>\n",
       "    </tr>\n",
       "    <tr>\n",
       "      <th>7023</th>\n",
       "      <td>violetcri cancellazione dati app immuni sempre...</td>\n",
       "      <td>2021-11-29</td>\n",
       "      <td>2748336785</td>\n",
       "      <td>[]</td>\n",
       "      <td>0</td>\n",
       "    </tr>\n",
       "    <tr>\n",
       "      <th>7018</th>\n",
       "      <td>mikemalament tratta stato emergenza dati immag...</td>\n",
       "      <td>2021-11-29</td>\n",
       "      <td>981843302432608257</td>\n",
       "      <td>[]</td>\n",
       "      <td>0</td>\n",
       "    </tr>\n",
       "    <tr>\n",
       "      <th>7019</th>\n",
       "      <td>chancegardiner borghi claudio luciomalan ladyo...</td>\n",
       "      <td>2021-11-29</td>\n",
       "      <td>1442459086138740743</td>\n",
       "      <td>[]</td>\n",
       "      <td>0</td>\n",
       "    </tr>\n",
       "    <tr>\n",
       "      <th>7020</th>\n",
       "      <td>armoniosiaccent sembra riferisca app immu</td>\n",
       "      <td>2021-11-29</td>\n",
       "      <td>499655831</td>\n",
       "      <td>[]</td>\n",
       "      <td>0</td>\n",
       "    </tr>\n",
       "    <tr>\n",
       "      <th>7021</th>\n",
       "      <td>nico art comma aprile numero riguarda proroga ...</td>\n",
       "      <td>2021-11-29</td>\n",
       "      <td>894286780945641472</td>\n",
       "      <td>[]</td>\n",
       "      <td>0</td>\n",
       "    </tr>\n",
       "    <tr>\n",
       "      <th>7022</th>\n",
       "      <td>armoniosiaccent raffaellamucci tratta cancella...</td>\n",
       "      <td>2021-11-29</td>\n",
       "      <td>2748336785</td>\n",
       "      <td>[]</td>\n",
       "      <td>0</td>\n",
       "    </tr>\n",
       "    <tr>\n",
       "      <th>7024</th>\n",
       "      <td>ezio laveritaweb franborgonovo relativo app im...</td>\n",
       "      <td>2021-11-29</td>\n",
       "      <td>1433047139123351554</td>\n",
       "      <td>[]</td>\n",
       "      <td>0</td>\n",
       "    </tr>\n",
       "    <tr>\n",
       "      <th>7016</th>\n",
       "      <td>bincremona agatalarthi matteosalvinimi riferit...</td>\n",
       "      <td>2021-11-29</td>\n",
       "      <td>1026418206</td>\n",
       "      <td>[]</td>\n",
       "      <td>0</td>\n",
       "    </tr>\n",
       "  </tbody>\n",
       "</table>\n",
       "</div>"
      ],
      "text/plain": [
       "                                                   tweet       date  \\\n",
       "12982  enricoletta cappellini serviva lockdownsubito ... 2021-12-31   \n",
       "7012     trafello app immuni fatta signorini capito male 2021-11-30   \n",
       "7023   violetcri cancellazione dati app immuni sempre... 2021-11-29   \n",
       "7018   mikemalament tratta stato emergenza dati immag... 2021-11-29   \n",
       "7019   chancegardiner borghi claudio luciomalan ladyo... 2021-11-29   \n",
       "7020           armoniosiaccent sembra riferisca app immu 2021-11-29   \n",
       "7021   nico art comma aprile numero riguarda proroga ... 2021-11-29   \n",
       "7022   armoniosiaccent raffaellamucci tratta cancella... 2021-11-29   \n",
       "7024   ezio laveritaweb franborgonovo relativo app im... 2021-11-29   \n",
       "7016   bincremona agatalarthi matteosalvinimi riferit... 2021-11-29   \n",
       "\n",
       "                   user_id                                           hashtags  \\\n",
       "12982            866679978  ['lockdownsubito', 'omicron', 'obbligovaccinal...   \n",
       "7012   1406986378139820033                                                 []   \n",
       "7023            2748336785                                                 []   \n",
       "7018    981843302432608257                                                 []   \n",
       "7019   1442459086138740743                                                 []   \n",
       "7020             499655831                                                 []   \n",
       "7021    894286780945641472                                                 []   \n",
       "7022            2748336785                                                 []   \n",
       "7024   1433047139123351554                                                 []   \n",
       "7016            1026418206                                                 []   \n",
       "\n",
       "       retweets_count  \n",
       "12982               0  \n",
       "7012                0  \n",
       "7023                0  \n",
       "7018                0  \n",
       "7019                0  \n",
       "7020                0  \n",
       "7021                0  \n",
       "7022                0  \n",
       "7024                0  \n",
       "7016                0  "
      ]
     },
     "execution_count": 39,
     "metadata": {},
     "output_type": "execute_result"
    }
   ],
   "source": [
    "df_final.sort_values(by='date', ascending=False)[['tweet', 'date', 'user_id', 'hashtags', 'retweets_count']].head(n=10)"
   ]
  },
  {
   "cell_type": "markdown",
   "id": "8c63ef66",
   "metadata": {},
   "source": [
    "### Analisi temporale dei tweets"
   ]
  },
  {
   "cell_type": "markdown",
   "id": "b7d520ee",
   "metadata": {},
   "source": [
    "Numero di tweet x MESI"
   ]
  },
  {
   "cell_type": "code",
   "execution_count": 40,
   "id": "5140b788",
   "metadata": {},
   "outputs": [
    {
     "data": {
      "text/html": [
       "<div>\n",
       "<style scoped>\n",
       "    .dataframe tbody tr th:only-of-type {\n",
       "        vertical-align: middle;\n",
       "    }\n",
       "\n",
       "    .dataframe tbody tr th {\n",
       "        vertical-align: top;\n",
       "    }\n",
       "\n",
       "    .dataframe thead th {\n",
       "        text-align: right;\n",
       "    }\n",
       "</style>\n",
       "<table border=\"1\" class=\"dataframe\">\n",
       "  <thead>\n",
       "    <tr style=\"text-align: right;\">\n",
       "      <th></th>\n",
       "      <th>mese</th>\n",
       "      <th>tweet</th>\n",
       "    </tr>\n",
       "  </thead>\n",
       "  <tbody>\n",
       "    <tr>\n",
       "      <th>0</th>\n",
       "      <td>2020-06</td>\n",
       "      <td>672</td>\n",
       "    </tr>\n",
       "    <tr>\n",
       "      <th>1</th>\n",
       "      <td>2020-07</td>\n",
       "      <td>741</td>\n",
       "    </tr>\n",
       "    <tr>\n",
       "      <th>2</th>\n",
       "      <td>2020-08</td>\n",
       "      <td>358</td>\n",
       "    </tr>\n",
       "    <tr>\n",
       "      <th>3</th>\n",
       "      <td>2020-09</td>\n",
       "      <td>448</td>\n",
       "    </tr>\n",
       "    <tr>\n",
       "      <th>4</th>\n",
       "      <td>2020-10</td>\n",
       "      <td>575</td>\n",
       "    </tr>\n",
       "    <tr>\n",
       "      <th>5</th>\n",
       "      <td>2020-11</td>\n",
       "      <td>675</td>\n",
       "    </tr>\n",
       "    <tr>\n",
       "      <th>6</th>\n",
       "      <td>2020-12</td>\n",
       "      <td>291</td>\n",
       "    </tr>\n",
       "    <tr>\n",
       "      <th>7</th>\n",
       "      <td>2021-01</td>\n",
       "      <td>302</td>\n",
       "    </tr>\n",
       "    <tr>\n",
       "      <th>8</th>\n",
       "      <td>2021-02</td>\n",
       "      <td>381</td>\n",
       "    </tr>\n",
       "    <tr>\n",
       "      <th>9</th>\n",
       "      <td>2021-03</td>\n",
       "      <td>443</td>\n",
       "    </tr>\n",
       "    <tr>\n",
       "      <th>10</th>\n",
       "      <td>2021-04</td>\n",
       "      <td>398</td>\n",
       "    </tr>\n",
       "    <tr>\n",
       "      <th>11</th>\n",
       "      <td>2021-05</td>\n",
       "      <td>258</td>\n",
       "    </tr>\n",
       "    <tr>\n",
       "      <th>12</th>\n",
       "      <td>2021-06</td>\n",
       "      <td>357</td>\n",
       "    </tr>\n",
       "    <tr>\n",
       "      <th>13</th>\n",
       "      <td>2021-07</td>\n",
       "      <td>274</td>\n",
       "    </tr>\n",
       "    <tr>\n",
       "      <th>14</th>\n",
       "      <td>2021-08</td>\n",
       "      <td>414</td>\n",
       "    </tr>\n",
       "    <tr>\n",
       "      <th>15</th>\n",
       "      <td>2021-09</td>\n",
       "      <td>158</td>\n",
       "    </tr>\n",
       "    <tr>\n",
       "      <th>16</th>\n",
       "      <td>2021-10</td>\n",
       "      <td>148</td>\n",
       "    </tr>\n",
       "    <tr>\n",
       "      <th>17</th>\n",
       "      <td>2021-11</td>\n",
       "      <td>139</td>\n",
       "    </tr>\n",
       "  </tbody>\n",
       "</table>\n",
       "</div>"
      ],
      "text/plain": [
       "       mese  tweet\n",
       "0   2020-06    672\n",
       "1   2020-07    741\n",
       "2   2020-08    358\n",
       "3   2020-09    448\n",
       "4   2020-10    575\n",
       "5   2020-11    675\n",
       "6   2020-12    291\n",
       "7   2021-01    302\n",
       "8   2021-02    381\n",
       "9   2021-03    443\n",
       "10  2021-04    398\n",
       "11  2021-05    258\n",
       "12  2021-06    357\n",
       "13  2021-07    274\n",
       "14  2021-08    414\n",
       "15  2021-09    158\n",
       "16  2021-10    148\n",
       "17  2021-11    139"
      ]
     },
     "execution_count": 40,
     "metadata": {},
     "output_type": "execute_result"
    }
   ],
   "source": [
    "by_month = pd.to_datetime(df['date']).dt.to_period('M').value_counts().sort_index()\n",
    "by_month.index = pd.PeriodIndex(by_month.index)\n",
    "df_month = by_month.rename_axis('mese').reset_index(name='tweet')\n",
    "df_month"
   ]
  },
  {
   "cell_type": "markdown",
   "id": "b5fc9659",
   "metadata": {},
   "source": [
    "Numero di tweet per ANNO"
   ]
  },
  {
   "cell_type": "code",
   "execution_count": 47,
   "id": "9be7e952",
   "metadata": {},
   "outputs": [
    {
     "data": {
      "application/vnd.plotly.v1+json": {
       "config": {
        "plotlyServerURL": "https://plot.ly"
       },
       "data": [
        {
         "marker": {
          "color": "red"
         },
         "text": "counts",
         "type": "scatter",
         "x": [
          "2020-06",
          "2020-07",
          "2020-08",
          "2020-09",
          "2020-10",
          "2020-11",
          "2020-12",
          "2021-01",
          "2021-02",
          "2021-03",
          "2021-04",
          "2021-05",
          "2021-06",
          "2021-07",
          "2021-08",
          "2021-09",
          "2021-10",
          "2021-11"
         ],
         "y": [
          672,
          741,
          358,
          448,
          575,
          675,
          291,
          302,
          381,
          443,
          398,
          258,
          357,
          274,
          414,
          158,
          148,
          139
         ]
        }
       ],
       "layout": {
        "showlegend": false,
        "template": {
         "data": {
          "bar": [
           {
            "error_x": {
             "color": "#2a3f5f"
            },
            "error_y": {
             "color": "#2a3f5f"
            },
            "marker": {
             "line": {
              "color": "#E5ECF6",
              "width": 0.5
             },
             "pattern": {
              "fillmode": "overlay",
              "size": 10,
              "solidity": 0.2
             }
            },
            "type": "bar"
           }
          ],
          "barpolar": [
           {
            "marker": {
             "line": {
              "color": "#E5ECF6",
              "width": 0.5
             },
             "pattern": {
              "fillmode": "overlay",
              "size": 10,
              "solidity": 0.2
             }
            },
            "type": "barpolar"
           }
          ],
          "carpet": [
           {
            "aaxis": {
             "endlinecolor": "#2a3f5f",
             "gridcolor": "white",
             "linecolor": "white",
             "minorgridcolor": "white",
             "startlinecolor": "#2a3f5f"
            },
            "baxis": {
             "endlinecolor": "#2a3f5f",
             "gridcolor": "white",
             "linecolor": "white",
             "minorgridcolor": "white",
             "startlinecolor": "#2a3f5f"
            },
            "type": "carpet"
           }
          ],
          "choropleth": [
           {
            "colorbar": {
             "outlinewidth": 0,
             "ticks": ""
            },
            "type": "choropleth"
           }
          ],
          "contour": [
           {
            "colorbar": {
             "outlinewidth": 0,
             "ticks": ""
            },
            "colorscale": [
             [
              0,
              "#0d0887"
             ],
             [
              0.1111111111111111,
              "#46039f"
             ],
             [
              0.2222222222222222,
              "#7201a8"
             ],
             [
              0.3333333333333333,
              "#9c179e"
             ],
             [
              0.4444444444444444,
              "#bd3786"
             ],
             [
              0.5555555555555556,
              "#d8576b"
             ],
             [
              0.6666666666666666,
              "#ed7953"
             ],
             [
              0.7777777777777778,
              "#fb9f3a"
             ],
             [
              0.8888888888888888,
              "#fdca26"
             ],
             [
              1,
              "#f0f921"
             ]
            ],
            "type": "contour"
           }
          ],
          "contourcarpet": [
           {
            "colorbar": {
             "outlinewidth": 0,
             "ticks": ""
            },
            "type": "contourcarpet"
           }
          ],
          "heatmap": [
           {
            "colorbar": {
             "outlinewidth": 0,
             "ticks": ""
            },
            "colorscale": [
             [
              0,
              "#0d0887"
             ],
             [
              0.1111111111111111,
              "#46039f"
             ],
             [
              0.2222222222222222,
              "#7201a8"
             ],
             [
              0.3333333333333333,
              "#9c179e"
             ],
             [
              0.4444444444444444,
              "#bd3786"
             ],
             [
              0.5555555555555556,
              "#d8576b"
             ],
             [
              0.6666666666666666,
              "#ed7953"
             ],
             [
              0.7777777777777778,
              "#fb9f3a"
             ],
             [
              0.8888888888888888,
              "#fdca26"
             ],
             [
              1,
              "#f0f921"
             ]
            ],
            "type": "heatmap"
           }
          ],
          "heatmapgl": [
           {
            "colorbar": {
             "outlinewidth": 0,
             "ticks": ""
            },
            "colorscale": [
             [
              0,
              "#0d0887"
             ],
             [
              0.1111111111111111,
              "#46039f"
             ],
             [
              0.2222222222222222,
              "#7201a8"
             ],
             [
              0.3333333333333333,
              "#9c179e"
             ],
             [
              0.4444444444444444,
              "#bd3786"
             ],
             [
              0.5555555555555556,
              "#d8576b"
             ],
             [
              0.6666666666666666,
              "#ed7953"
             ],
             [
              0.7777777777777778,
              "#fb9f3a"
             ],
             [
              0.8888888888888888,
              "#fdca26"
             ],
             [
              1,
              "#f0f921"
             ]
            ],
            "type": "heatmapgl"
           }
          ],
          "histogram": [
           {
            "marker": {
             "pattern": {
              "fillmode": "overlay",
              "size": 10,
              "solidity": 0.2
             }
            },
            "type": "histogram"
           }
          ],
          "histogram2d": [
           {
            "colorbar": {
             "outlinewidth": 0,
             "ticks": ""
            },
            "colorscale": [
             [
              0,
              "#0d0887"
             ],
             [
              0.1111111111111111,
              "#46039f"
             ],
             [
              0.2222222222222222,
              "#7201a8"
             ],
             [
              0.3333333333333333,
              "#9c179e"
             ],
             [
              0.4444444444444444,
              "#bd3786"
             ],
             [
              0.5555555555555556,
              "#d8576b"
             ],
             [
              0.6666666666666666,
              "#ed7953"
             ],
             [
              0.7777777777777778,
              "#fb9f3a"
             ],
             [
              0.8888888888888888,
              "#fdca26"
             ],
             [
              1,
              "#f0f921"
             ]
            ],
            "type": "histogram2d"
           }
          ],
          "histogram2dcontour": [
           {
            "colorbar": {
             "outlinewidth": 0,
             "ticks": ""
            },
            "colorscale": [
             [
              0,
              "#0d0887"
             ],
             [
              0.1111111111111111,
              "#46039f"
             ],
             [
              0.2222222222222222,
              "#7201a8"
             ],
             [
              0.3333333333333333,
              "#9c179e"
             ],
             [
              0.4444444444444444,
              "#bd3786"
             ],
             [
              0.5555555555555556,
              "#d8576b"
             ],
             [
              0.6666666666666666,
              "#ed7953"
             ],
             [
              0.7777777777777778,
              "#fb9f3a"
             ],
             [
              0.8888888888888888,
              "#fdca26"
             ],
             [
              1,
              "#f0f921"
             ]
            ],
            "type": "histogram2dcontour"
           }
          ],
          "mesh3d": [
           {
            "colorbar": {
             "outlinewidth": 0,
             "ticks": ""
            },
            "type": "mesh3d"
           }
          ],
          "parcoords": [
           {
            "line": {
             "colorbar": {
              "outlinewidth": 0,
              "ticks": ""
             }
            },
            "type": "parcoords"
           }
          ],
          "pie": [
           {
            "automargin": true,
            "type": "pie"
           }
          ],
          "scatter": [
           {
            "fillpattern": {
             "fillmode": "overlay",
             "size": 10,
             "solidity": 0.2
            },
            "type": "scatter"
           }
          ],
          "scatter3d": [
           {
            "line": {
             "colorbar": {
              "outlinewidth": 0,
              "ticks": ""
             }
            },
            "marker": {
             "colorbar": {
              "outlinewidth": 0,
              "ticks": ""
             }
            },
            "type": "scatter3d"
           }
          ],
          "scattercarpet": [
           {
            "marker": {
             "colorbar": {
              "outlinewidth": 0,
              "ticks": ""
             }
            },
            "type": "scattercarpet"
           }
          ],
          "scattergeo": [
           {
            "marker": {
             "colorbar": {
              "outlinewidth": 0,
              "ticks": ""
             }
            },
            "type": "scattergeo"
           }
          ],
          "scattergl": [
           {
            "marker": {
             "colorbar": {
              "outlinewidth": 0,
              "ticks": ""
             }
            },
            "type": "scattergl"
           }
          ],
          "scattermapbox": [
           {
            "marker": {
             "colorbar": {
              "outlinewidth": 0,
              "ticks": ""
             }
            },
            "type": "scattermapbox"
           }
          ],
          "scatterpolar": [
           {
            "marker": {
             "colorbar": {
              "outlinewidth": 0,
              "ticks": ""
             }
            },
            "type": "scatterpolar"
           }
          ],
          "scatterpolargl": [
           {
            "marker": {
             "colorbar": {
              "outlinewidth": 0,
              "ticks": ""
             }
            },
            "type": "scatterpolargl"
           }
          ],
          "scatterternary": [
           {
            "marker": {
             "colorbar": {
              "outlinewidth": 0,
              "ticks": ""
             }
            },
            "type": "scatterternary"
           }
          ],
          "surface": [
           {
            "colorbar": {
             "outlinewidth": 0,
             "ticks": ""
            },
            "colorscale": [
             [
              0,
              "#0d0887"
             ],
             [
              0.1111111111111111,
              "#46039f"
             ],
             [
              0.2222222222222222,
              "#7201a8"
             ],
             [
              0.3333333333333333,
              "#9c179e"
             ],
             [
              0.4444444444444444,
              "#bd3786"
             ],
             [
              0.5555555555555556,
              "#d8576b"
             ],
             [
              0.6666666666666666,
              "#ed7953"
             ],
             [
              0.7777777777777778,
              "#fb9f3a"
             ],
             [
              0.8888888888888888,
              "#fdca26"
             ],
             [
              1,
              "#f0f921"
             ]
            ],
            "type": "surface"
           }
          ],
          "table": [
           {
            "cells": {
             "fill": {
              "color": "#EBF0F8"
             },
             "line": {
              "color": "white"
             }
            },
            "header": {
             "fill": {
              "color": "#C8D4E3"
             },
             "line": {
              "color": "white"
             }
            },
            "type": "table"
           }
          ]
         },
         "layout": {
          "annotationdefaults": {
           "arrowcolor": "#2a3f5f",
           "arrowhead": 0,
           "arrowwidth": 1
          },
          "autotypenumbers": "strict",
          "coloraxis": {
           "colorbar": {
            "outlinewidth": 0,
            "ticks": ""
           }
          },
          "colorscale": {
           "diverging": [
            [
             0,
             "#8e0152"
            ],
            [
             0.1,
             "#c51b7d"
            ],
            [
             0.2,
             "#de77ae"
            ],
            [
             0.3,
             "#f1b6da"
            ],
            [
             0.4,
             "#fde0ef"
            ],
            [
             0.5,
             "#f7f7f7"
            ],
            [
             0.6,
             "#e6f5d0"
            ],
            [
             0.7,
             "#b8e186"
            ],
            [
             0.8,
             "#7fbc41"
            ],
            [
             0.9,
             "#4d9221"
            ],
            [
             1,
             "#276419"
            ]
           ],
           "sequential": [
            [
             0,
             "#0d0887"
            ],
            [
             0.1111111111111111,
             "#46039f"
            ],
            [
             0.2222222222222222,
             "#7201a8"
            ],
            [
             0.3333333333333333,
             "#9c179e"
            ],
            [
             0.4444444444444444,
             "#bd3786"
            ],
            [
             0.5555555555555556,
             "#d8576b"
            ],
            [
             0.6666666666666666,
             "#ed7953"
            ],
            [
             0.7777777777777778,
             "#fb9f3a"
            ],
            [
             0.8888888888888888,
             "#fdca26"
            ],
            [
             1,
             "#f0f921"
            ]
           ],
           "sequentialminus": [
            [
             0,
             "#0d0887"
            ],
            [
             0.1111111111111111,
             "#46039f"
            ],
            [
             0.2222222222222222,
             "#7201a8"
            ],
            [
             0.3333333333333333,
             "#9c179e"
            ],
            [
             0.4444444444444444,
             "#bd3786"
            ],
            [
             0.5555555555555556,
             "#d8576b"
            ],
            [
             0.6666666666666666,
             "#ed7953"
            ],
            [
             0.7777777777777778,
             "#fb9f3a"
            ],
            [
             0.8888888888888888,
             "#fdca26"
            ],
            [
             1,
             "#f0f921"
            ]
           ]
          },
          "colorway": [
           "#636efa",
           "#EF553B",
           "#00cc96",
           "#ab63fa",
           "#FFA15A",
           "#19d3f3",
           "#FF6692",
           "#B6E880",
           "#FF97FF",
           "#FECB52"
          ],
          "font": {
           "color": "#2a3f5f"
          },
          "geo": {
           "bgcolor": "white",
           "lakecolor": "white",
           "landcolor": "#E5ECF6",
           "showlakes": true,
           "showland": true,
           "subunitcolor": "white"
          },
          "hoverlabel": {
           "align": "left"
          },
          "hovermode": "closest",
          "mapbox": {
           "style": "light"
          },
          "paper_bgcolor": "white",
          "plot_bgcolor": "#E5ECF6",
          "polar": {
           "angularaxis": {
            "gridcolor": "white",
            "linecolor": "white",
            "ticks": ""
           },
           "bgcolor": "#E5ECF6",
           "radialaxis": {
            "gridcolor": "white",
            "linecolor": "white",
            "ticks": ""
           }
          },
          "scene": {
           "xaxis": {
            "backgroundcolor": "#E5ECF6",
            "gridcolor": "white",
            "gridwidth": 2,
            "linecolor": "white",
            "showbackground": true,
            "ticks": "",
            "zerolinecolor": "white"
           },
           "yaxis": {
            "backgroundcolor": "#E5ECF6",
            "gridcolor": "white",
            "gridwidth": 2,
            "linecolor": "white",
            "showbackground": true,
            "ticks": "",
            "zerolinecolor": "white"
           },
           "zaxis": {
            "backgroundcolor": "#E5ECF6",
            "gridcolor": "white",
            "gridwidth": 2,
            "linecolor": "white",
            "showbackground": true,
            "ticks": "",
            "zerolinecolor": "white"
           }
          },
          "shapedefaults": {
           "line": {
            "color": "#2a3f5f"
           }
          },
          "ternary": {
           "aaxis": {
            "gridcolor": "white",
            "linecolor": "white",
            "ticks": ""
           },
           "baxis": {
            "gridcolor": "white",
            "linecolor": "white",
            "ticks": ""
           },
           "bgcolor": "#E5ECF6",
           "caxis": {
            "gridcolor": "white",
            "linecolor": "white",
            "ticks": ""
           }
          },
          "title": {
           "x": 0.05
          },
          "xaxis": {
           "automargin": true,
           "gridcolor": "white",
           "linecolor": "white",
           "ticks": "",
           "title": {
            "standoff": 15
           },
           "zerolinecolor": "white",
           "zerolinewidth": 2
          },
          "yaxis": {
           "automargin": true,
           "gridcolor": "white",
           "linecolor": "white",
           "ticks": "",
           "title": {
            "standoff": 15
           },
           "zerolinecolor": "white",
           "zerolinewidth": 2
          }
         }
        },
        "title": {
         "text": "Andamento temporale dei tweet pubblicati sull'app Immuni tra giugno 2020 e dicembre 2021"
        },
        "xaxis": {
         "title": {
          "text": "Mesi"
         }
        },
        "yaxis": {
         "title": {
          "text": "Tweet Totali"
         }
        }
       }
      },
      "text/html": [
       "<div>                            <div id=\"71e21f35-3553-436a-96e6-d794b47a8831\" class=\"plotly-graph-div\" style=\"height:525px; width:100%;\"></div>            <script type=\"text/javascript\">                require([\"plotly\"], function(Plotly) {                    window.PLOTLYENV=window.PLOTLYENV || {};                                    if (document.getElementById(\"71e21f35-3553-436a-96e6-d794b47a8831\")) {                    Plotly.newPlot(                        \"71e21f35-3553-436a-96e6-d794b47a8831\",                        [{\"marker\":{\"color\":\"red\"},\"text\":\"counts\",\"x\":[\"2020-06\",\"2020-07\",\"2020-08\",\"2020-09\",\"2020-10\",\"2020-11\",\"2020-12\",\"2021-01\",\"2021-02\",\"2021-03\",\"2021-04\",\"2021-05\",\"2021-06\",\"2021-07\",\"2021-08\",\"2021-09\",\"2021-10\",\"2021-11\"],\"y\":[672,741,358,448,575,675,291,302,381,443,398,258,357,274,414,158,148,139],\"type\":\"scatter\"}],                        {\"template\":{\"data\":{\"histogram2dcontour\":[{\"type\":\"histogram2dcontour\",\"colorbar\":{\"outlinewidth\":0,\"ticks\":\"\"},\"colorscale\":[[0.0,\"#0d0887\"],[0.1111111111111111,\"#46039f\"],[0.2222222222222222,\"#7201a8\"],[0.3333333333333333,\"#9c179e\"],[0.4444444444444444,\"#bd3786\"],[0.5555555555555556,\"#d8576b\"],[0.6666666666666666,\"#ed7953\"],[0.7777777777777778,\"#fb9f3a\"],[0.8888888888888888,\"#fdca26\"],[1.0,\"#f0f921\"]]}],\"choropleth\":[{\"type\":\"choropleth\",\"colorbar\":{\"outlinewidth\":0,\"ticks\":\"\"}}],\"histogram2d\":[{\"type\":\"histogram2d\",\"colorbar\":{\"outlinewidth\":0,\"ticks\":\"\"},\"colorscale\":[[0.0,\"#0d0887\"],[0.1111111111111111,\"#46039f\"],[0.2222222222222222,\"#7201a8\"],[0.3333333333333333,\"#9c179e\"],[0.4444444444444444,\"#bd3786\"],[0.5555555555555556,\"#d8576b\"],[0.6666666666666666,\"#ed7953\"],[0.7777777777777778,\"#fb9f3a\"],[0.8888888888888888,\"#fdca26\"],[1.0,\"#f0f921\"]]}],\"heatmap\":[{\"type\":\"heatmap\",\"colorbar\":{\"outlinewidth\":0,\"ticks\":\"\"},\"colorscale\":[[0.0,\"#0d0887\"],[0.1111111111111111,\"#46039f\"],[0.2222222222222222,\"#7201a8\"],[0.3333333333333333,\"#9c179e\"],[0.4444444444444444,\"#bd3786\"],[0.5555555555555556,\"#d8576b\"],[0.6666666666666666,\"#ed7953\"],[0.7777777777777778,\"#fb9f3a\"],[0.8888888888888888,\"#fdca26\"],[1.0,\"#f0f921\"]]}],\"heatmapgl\":[{\"type\":\"heatmapgl\",\"colorbar\":{\"outlinewidth\":0,\"ticks\":\"\"},\"colorscale\":[[0.0,\"#0d0887\"],[0.1111111111111111,\"#46039f\"],[0.2222222222222222,\"#7201a8\"],[0.3333333333333333,\"#9c179e\"],[0.4444444444444444,\"#bd3786\"],[0.5555555555555556,\"#d8576b\"],[0.6666666666666666,\"#ed7953\"],[0.7777777777777778,\"#fb9f3a\"],[0.8888888888888888,\"#fdca26\"],[1.0,\"#f0f921\"]]}],\"contourcarpet\":[{\"type\":\"contourcarpet\",\"colorbar\":{\"outlinewidth\":0,\"ticks\":\"\"}}],\"contour\":[{\"type\":\"contour\",\"colorbar\":{\"outlinewidth\":0,\"ticks\":\"\"},\"colorscale\":[[0.0,\"#0d0887\"],[0.1111111111111111,\"#46039f\"],[0.2222222222222222,\"#7201a8\"],[0.3333333333333333,\"#9c179e\"],[0.4444444444444444,\"#bd3786\"],[0.5555555555555556,\"#d8576b\"],[0.6666666666666666,\"#ed7953\"],[0.7777777777777778,\"#fb9f3a\"],[0.8888888888888888,\"#fdca26\"],[1.0,\"#f0f921\"]]}],\"surface\":[{\"type\":\"surface\",\"colorbar\":{\"outlinewidth\":0,\"ticks\":\"\"},\"colorscale\":[[0.0,\"#0d0887\"],[0.1111111111111111,\"#46039f\"],[0.2222222222222222,\"#7201a8\"],[0.3333333333333333,\"#9c179e\"],[0.4444444444444444,\"#bd3786\"],[0.5555555555555556,\"#d8576b\"],[0.6666666666666666,\"#ed7953\"],[0.7777777777777778,\"#fb9f3a\"],[0.8888888888888888,\"#fdca26\"],[1.0,\"#f0f921\"]]}],\"mesh3d\":[{\"type\":\"mesh3d\",\"colorbar\":{\"outlinewidth\":0,\"ticks\":\"\"}}],\"scatter\":[{\"fillpattern\":{\"fillmode\":\"overlay\",\"size\":10,\"solidity\":0.2},\"type\":\"scatter\"}],\"parcoords\":[{\"type\":\"parcoords\",\"line\":{\"colorbar\":{\"outlinewidth\":0,\"ticks\":\"\"}}}],\"scatterpolargl\":[{\"type\":\"scatterpolargl\",\"marker\":{\"colorbar\":{\"outlinewidth\":0,\"ticks\":\"\"}}}],\"bar\":[{\"error_x\":{\"color\":\"#2a3f5f\"},\"error_y\":{\"color\":\"#2a3f5f\"},\"marker\":{\"line\":{\"color\":\"#E5ECF6\",\"width\":0.5},\"pattern\":{\"fillmode\":\"overlay\",\"size\":10,\"solidity\":0.2}},\"type\":\"bar\"}],\"scattergeo\":[{\"type\":\"scattergeo\",\"marker\":{\"colorbar\":{\"outlinewidth\":0,\"ticks\":\"\"}}}],\"scatterpolar\":[{\"type\":\"scatterpolar\",\"marker\":{\"colorbar\":{\"outlinewidth\":0,\"ticks\":\"\"}}}],\"histogram\":[{\"marker\":{\"pattern\":{\"fillmode\":\"overlay\",\"size\":10,\"solidity\":0.2}},\"type\":\"histogram\"}],\"scattergl\":[{\"type\":\"scattergl\",\"marker\":{\"colorbar\":{\"outlinewidth\":0,\"ticks\":\"\"}}}],\"scatter3d\":[{\"type\":\"scatter3d\",\"line\":{\"colorbar\":{\"outlinewidth\":0,\"ticks\":\"\"}},\"marker\":{\"colorbar\":{\"outlinewidth\":0,\"ticks\":\"\"}}}],\"scattermapbox\":[{\"type\":\"scattermapbox\",\"marker\":{\"colorbar\":{\"outlinewidth\":0,\"ticks\":\"\"}}}],\"scatterternary\":[{\"type\":\"scatterternary\",\"marker\":{\"colorbar\":{\"outlinewidth\":0,\"ticks\":\"\"}}}],\"scattercarpet\":[{\"type\":\"scattercarpet\",\"marker\":{\"colorbar\":{\"outlinewidth\":0,\"ticks\":\"\"}}}],\"carpet\":[{\"aaxis\":{\"endlinecolor\":\"#2a3f5f\",\"gridcolor\":\"white\",\"linecolor\":\"white\",\"minorgridcolor\":\"white\",\"startlinecolor\":\"#2a3f5f\"},\"baxis\":{\"endlinecolor\":\"#2a3f5f\",\"gridcolor\":\"white\",\"linecolor\":\"white\",\"minorgridcolor\":\"white\",\"startlinecolor\":\"#2a3f5f\"},\"type\":\"carpet\"}],\"table\":[{\"cells\":{\"fill\":{\"color\":\"#EBF0F8\"},\"line\":{\"color\":\"white\"}},\"header\":{\"fill\":{\"color\":\"#C8D4E3\"},\"line\":{\"color\":\"white\"}},\"type\":\"table\"}],\"barpolar\":[{\"marker\":{\"line\":{\"color\":\"#E5ECF6\",\"width\":0.5},\"pattern\":{\"fillmode\":\"overlay\",\"size\":10,\"solidity\":0.2}},\"type\":\"barpolar\"}],\"pie\":[{\"automargin\":true,\"type\":\"pie\"}]},\"layout\":{\"autotypenumbers\":\"strict\",\"colorway\":[\"#636efa\",\"#EF553B\",\"#00cc96\",\"#ab63fa\",\"#FFA15A\",\"#19d3f3\",\"#FF6692\",\"#B6E880\",\"#FF97FF\",\"#FECB52\"],\"font\":{\"color\":\"#2a3f5f\"},\"hovermode\":\"closest\",\"hoverlabel\":{\"align\":\"left\"},\"paper_bgcolor\":\"white\",\"plot_bgcolor\":\"#E5ECF6\",\"polar\":{\"bgcolor\":\"#E5ECF6\",\"angularaxis\":{\"gridcolor\":\"white\",\"linecolor\":\"white\",\"ticks\":\"\"},\"radialaxis\":{\"gridcolor\":\"white\",\"linecolor\":\"white\",\"ticks\":\"\"}},\"ternary\":{\"bgcolor\":\"#E5ECF6\",\"aaxis\":{\"gridcolor\":\"white\",\"linecolor\":\"white\",\"ticks\":\"\"},\"baxis\":{\"gridcolor\":\"white\",\"linecolor\":\"white\",\"ticks\":\"\"},\"caxis\":{\"gridcolor\":\"white\",\"linecolor\":\"white\",\"ticks\":\"\"}},\"coloraxis\":{\"colorbar\":{\"outlinewidth\":0,\"ticks\":\"\"}},\"colorscale\":{\"sequential\":[[0.0,\"#0d0887\"],[0.1111111111111111,\"#46039f\"],[0.2222222222222222,\"#7201a8\"],[0.3333333333333333,\"#9c179e\"],[0.4444444444444444,\"#bd3786\"],[0.5555555555555556,\"#d8576b\"],[0.6666666666666666,\"#ed7953\"],[0.7777777777777778,\"#fb9f3a\"],[0.8888888888888888,\"#fdca26\"],[1.0,\"#f0f921\"]],\"sequentialminus\":[[0.0,\"#0d0887\"],[0.1111111111111111,\"#46039f\"],[0.2222222222222222,\"#7201a8\"],[0.3333333333333333,\"#9c179e\"],[0.4444444444444444,\"#bd3786\"],[0.5555555555555556,\"#d8576b\"],[0.6666666666666666,\"#ed7953\"],[0.7777777777777778,\"#fb9f3a\"],[0.8888888888888888,\"#fdca26\"],[1.0,\"#f0f921\"]],\"diverging\":[[0,\"#8e0152\"],[0.1,\"#c51b7d\"],[0.2,\"#de77ae\"],[0.3,\"#f1b6da\"],[0.4,\"#fde0ef\"],[0.5,\"#f7f7f7\"],[0.6,\"#e6f5d0\"],[0.7,\"#b8e186\"],[0.8,\"#7fbc41\"],[0.9,\"#4d9221\"],[1,\"#276419\"]]},\"xaxis\":{\"gridcolor\":\"white\",\"linecolor\":\"white\",\"ticks\":\"\",\"title\":{\"standoff\":15},\"zerolinecolor\":\"white\",\"automargin\":true,\"zerolinewidth\":2},\"yaxis\":{\"gridcolor\":\"white\",\"linecolor\":\"white\",\"ticks\":\"\",\"title\":{\"standoff\":15},\"zerolinecolor\":\"white\",\"automargin\":true,\"zerolinewidth\":2},\"scene\":{\"xaxis\":{\"backgroundcolor\":\"#E5ECF6\",\"gridcolor\":\"white\",\"linecolor\":\"white\",\"showbackground\":true,\"ticks\":\"\",\"zerolinecolor\":\"white\",\"gridwidth\":2},\"yaxis\":{\"backgroundcolor\":\"#E5ECF6\",\"gridcolor\":\"white\",\"linecolor\":\"white\",\"showbackground\":true,\"ticks\":\"\",\"zerolinecolor\":\"white\",\"gridwidth\":2},\"zaxis\":{\"backgroundcolor\":\"#E5ECF6\",\"gridcolor\":\"white\",\"linecolor\":\"white\",\"showbackground\":true,\"ticks\":\"\",\"zerolinecolor\":\"white\",\"gridwidth\":2}},\"shapedefaults\":{\"line\":{\"color\":\"#2a3f5f\"}},\"annotationdefaults\":{\"arrowcolor\":\"#2a3f5f\",\"arrowhead\":0,\"arrowwidth\":1},\"geo\":{\"bgcolor\":\"white\",\"landcolor\":\"#E5ECF6\",\"subunitcolor\":\"white\",\"showland\":true,\"showlakes\":true,\"lakecolor\":\"white\"},\"title\":{\"x\":0.05},\"mapbox\":{\"style\":\"light\"}}},\"title\":{\"text\":\"Andamento temporale dei tweet pubblicati sull'app Immuni tra giugno 2020 e dicembre 2021\"},\"xaxis\":{\"title\":{\"text\":\"Mesi\"}},\"yaxis\":{\"title\":{\"text\":\"Tweet Totali\"}},\"showlegend\":false},                        {\"responsive\": true}                    ).then(function(){\n",
       "                            \n",
       "var gd = document.getElementById('71e21f35-3553-436a-96e6-d794b47a8831');\n",
       "var x = new MutationObserver(function (mutations, observer) {{\n",
       "        var display = window.getComputedStyle(gd).display;\n",
       "        if (!display || display === 'none') {{\n",
       "            console.log([gd, 'removed!']);\n",
       "            Plotly.purge(gd);\n",
       "            observer.disconnect();\n",
       "        }}\n",
       "}});\n",
       "\n",
       "// Listen for the removal of the full notebook cells\n",
       "var notebookContainer = gd.closest('#notebook-container');\n",
       "if (notebookContainer) {{\n",
       "    x.observe(notebookContainer, {childList: true});\n",
       "}}\n",
       "\n",
       "// Listen for the clearing of the current output cell\n",
       "var outputEl = gd.closest('.output');\n",
       "if (outputEl) {{\n",
       "    x.observe(outputEl, {childList: true});\n",
       "}}\n",
       "\n",
       "                        })                };                });            </script>        </div>"
      ]
     },
     "metadata": {},
     "output_type": "display_data"
    },
    {
     "data": {
      "text/plain": [
       "<Figure size 720x576 with 0 Axes>"
      ]
     },
     "metadata": {},
     "output_type": "display_data"
    }
   ],
   "source": [
    "import plotly.express as px\n",
    "import plotly.graph_objs as go\n",
    "\n",
    "fig = go.Figure(data=go.Scatter(x=df_month['mese'].astype(str), \n",
    "                        y=df_month['tweet'],\n",
    "                        marker_color='red', text=\"counts\"))\n",
    "fig.update_layout({\"title\": \"Andamento temporale dei tweet pubblicati sull'app Immuni tra giugno 2020 e dicembre 2021\",\n",
    "                   \"xaxis\": {\"title\":\"Mesi\"},\n",
    "                   \"yaxis\": {\"title\":\"Tweet Totali\"},\n",
    "                   \"showlegend\": False})\n",
    "plt.savefig(\"img/tweet_mesi.png\")\n",
    "\n",
    "fig.show()"
   ]
  },
  {
   "cell_type": "markdown",
   "id": "9bd1de3f",
   "metadata": {},
   "source": [
    "---"
   ]
  },
  {
   "cell_type": "markdown",
   "id": "e880dec0",
   "metadata": {},
   "source": [
    "**Users più attivi**"
   ]
  },
  {
   "cell_type": "code",
   "execution_count": 42,
   "id": "07064720",
   "metadata": {},
   "outputs": [
    {
     "data": {
      "image/png": "[encoded data removed]",
      "text/plain": [
       "<Figure size 720x720 with 1 Axes>"
      ]
     },
     "metadata": {
      "needs_background": "light"
     },
     "output_type": "display_data"
    }
   ],
   "source": [
    "usertweets = df_final.groupby('username')\n",
    "#Taking the top 25 tweeting users\n",
    "top_users = usertweets.count()['tweet'].sort_values(ascending = False)[:10]\n",
    "top_users_dict = top_users.to_dict()\n",
    "user_ordered_dict =sorted(top_users_dict.items(), key=lambda x:x[1])\n",
    "user_ordered_dict = user_ordered_dict[::-1]\n",
    "#Now, like in the previous hashtags and mention cases, going to make #two lists, one with the username and one with the value\n",
    "dict_values = []\n",
    "dict_keys = []\n",
    "for item in user_ordered_dict[0:10]:\n",
    "    dict_keys.append(item[0])\n",
    "    dict_values.append(item[1])\n",
    "fig = plt.figure(figsize = (10,10))\n",
    "index = np.arange(10)\n",
    "plt.bar(index, dict_values, edgecolor = 'black', linewidth=1, color = '#1f78b4')\n",
    "plt.xlabel('Most active Users', fontsize = 18)\n",
    "plt.ylabel('Nº of Tweets', fontsize=20)\n",
    "plt.xticks(index,dict_keys, fontsize=15, rotation=90)\n",
    "plt.title('Numero di tweets degli utenti più attivi', fontsize = 20)\n",
    "plt.savefig('img/Tweets_of_10_active_users_df_finale.jpg')\n",
    "plt.show()"
   ]
  },
  {
   "cell_type": "markdown",
   "id": "46cb50e2",
   "metadata": {},
   "source": [
    "**Numero di Tweets con hashtags più utilizzati**"
   ]
  },
  {
   "cell_type": "code",
   "execution_count": 43,
   "id": "b6a61358",
   "metadata": {},
   "outputs": [
    {
     "data": {
      "image/png": "[encoded data removed]",
      "text/plain": [
       "<Figure size 720x432 with 1 Axes>"
      ]
     },
     "metadata": {
      "needs_background": "light"
     },
     "output_type": "display_data"
    }
   ],
   "source": [
    "hashtweets = df_final.groupby('hashtags')\n",
    "#Taking the top 25 tweeting users\n",
    "top_users = hashtweets.count()['tweet'].sort_values(ascending = False)[:10]\n",
    "top_users_dict = top_users.to_dict()\n",
    "user_ordered_dict =sorted(top_users_dict.items(), key=lambda x:x[1])\n",
    "user_ordered_dict = user_ordered_dict[::-1]\n",
    "#Now, like in the previous hashtags and mention cases, going to make #two lists, one with the username and one with the value\n",
    "dict_values = []\n",
    "dict_keys = []\n",
    "for item in user_ordered_dict[0:10]:\n",
    "    dict_keys.append(item[0])\n",
    "    dict_values.append(item[1])\n",
    "fig = plt.figure(figsize = (10,6))\n",
    "index = np.arange(10)\n",
    "plt.bar(index, dict_values, edgecolor = 'black', color = '#31a354', linewidth=1)\n",
    "#plt.xlabel('Hashtags più utilizzati', fontsize = 18)\n",
    "plt.ylabel('Nº di Tweets', fontsize=16)\n",
    "plt.xticks(index,dict_keys, fontsize=15, rotation=90)\n",
    "#plt.title('Numero di tweets degli hashtags più utilizzati (top 5)', fontsize = 20)\n",
    "plt.savefig('img/tweet_hashtags_piu_utilizzati_df_finale_10.jpg')\n",
    "plt.show()"
   ]
  },
  {
   "cell_type": "raw",
   "id": "6ec5cc74",
   "metadata": {},
   "source": [
    "sns.set_theme(style=\"darkgrid\")\n",
    "sns.countplot(x=df_final['hashtag_count'], data=df)"
   ]
  },
  {
   "cell_type": "code",
   "execution_count": 44,
   "id": "881e9b81",
   "metadata": {},
   "outputs": [
    {
     "data": {
      "text/html": [
       "<div>\n",
       "<style scoped>\n",
       "    .dataframe tbody tr th:only-of-type {\n",
       "        vertical-align: middle;\n",
       "    }\n",
       "\n",
       "    .dataframe tbody tr th {\n",
       "        vertical-align: top;\n",
       "    }\n",
       "\n",
       "    .dataframe thead th {\n",
       "        text-align: right;\n",
       "    }\n",
       "</style>\n",
       "<table border=\"1\" class=\"dataframe\">\n",
       "  <thead>\n",
       "    <tr style=\"text-align: right;\">\n",
       "      <th></th>\n",
       "      <th>date</th>\n",
       "      <th>user_id</th>\n",
       "      <th>username</th>\n",
       "      <th>name</th>\n",
       "      <th>tweet</th>\n",
       "      <th>mentions</th>\n",
       "      <th>replies_count</th>\n",
       "      <th>retweets_count</th>\n",
       "      <th>likes_count</th>\n",
       "      <th>hashtags</th>\n",
       "      <th>reply_to</th>\n",
       "      <th>hashtag_count</th>\n",
       "      <th>ment_count</th>\n",
       "    </tr>\n",
       "  </thead>\n",
       "  <tbody>\n",
       "    <tr>\n",
       "      <th>0</th>\n",
       "      <td>2020-06-04</td>\n",
       "      <td>266910319</td>\n",
       "      <td>appleforyou83</td>\n",
       "      <td>Theappleforyou</td>\n",
       "      <td>immuni app contenere contagi covid fase vers</td>\n",
       "      <td>[]</td>\n",
       "      <td>0</td>\n",
       "      <td>0</td>\n",
       "      <td>0</td>\n",
       "      <td>[]</td>\n",
       "      <td>[]</td>\n",
       "      <td>0</td>\n",
       "      <td>0</td>\n",
       "    </tr>\n",
       "    <tr>\n",
       "      <th>1</th>\n",
       "      <td>2020-06-04</td>\n",
       "      <td>1092893394</td>\n",
       "      <td>annafornasetti</td>\n",
       "      <td>안나 ★彡𓂀🫒</td>\n",
       "      <td>valà piergianfranco lotta privacy chissà azion...</td>\n",
       "      <td>[]</td>\n",
       "      <td>1</td>\n",
       "      <td>0</td>\n",
       "      <td>0</td>\n",
       "      <td>[]</td>\n",
       "      <td>[]</td>\n",
       "      <td>0</td>\n",
       "      <td>0</td>\n",
       "    </tr>\n",
       "    <tr>\n",
       "      <th>2</th>\n",
       "      <td>2020-06-04</td>\n",
       "      <td>1092893394</td>\n",
       "      <td>annafornasetti</td>\n",
       "      <td>안나 ★彡𓂀🫒</td>\n",
       "      <td>scaricate app immuni serve governo tracciarci ...</td>\n",
       "      <td>[]</td>\n",
       "      <td>1</td>\n",
       "      <td>0</td>\n",
       "      <td>4</td>\n",
       "      <td>[]</td>\n",
       "      <td>[]</td>\n",
       "      <td>0</td>\n",
       "      <td>0</td>\n",
       "    </tr>\n",
       "    <tr>\n",
       "      <th>3</th>\n",
       "      <td>2020-06-04</td>\n",
       "      <td>1267957495324172288</td>\n",
       "      <td>aleessi4m</td>\n",
       "      <td>alessia ✨</td>\n",
       "      <td>diegofusaro scusa attimo tieni così tanto priv...</td>\n",
       "      <td>[]</td>\n",
       "      <td>0</td>\n",
       "      <td>0</td>\n",
       "      <td>1</td>\n",
       "      <td>[]</td>\n",
       "      <td>[{'screen_name': 'DiegoFusaro', 'name': 'Diego...</td>\n",
       "      <td>0</td>\n",
       "      <td>1</td>\n",
       "    </tr>\n",
       "    <tr>\n",
       "      <th>4</th>\n",
       "      <td>2020-06-04</td>\n",
       "      <td>1337280565</td>\n",
       "      <td>garboek</td>\n",
       "      <td>GabryKeegan</td>\n",
       "      <td>qualcuno adotti bambino appimmu</td>\n",
       "      <td>[]</td>\n",
       "      <td>0</td>\n",
       "      <td>0</td>\n",
       "      <td>2</td>\n",
       "      <td>['appimmuni']</td>\n",
       "      <td>[]</td>\n",
       "      <td>1</td>\n",
       "      <td>0</td>\n",
       "    </tr>\n",
       "    <tr>\n",
       "      <th>...</th>\n",
       "      <td>...</td>\n",
       "      <td>...</td>\n",
       "      <td>...</td>\n",
       "      <td>...</td>\n",
       "      <td>...</td>\n",
       "      <td>...</td>\n",
       "      <td>...</td>\n",
       "      <td>...</td>\n",
       "      <td>...</td>\n",
       "      <td>...</td>\n",
       "      <td>...</td>\n",
       "      <td>...</td>\n",
       "      <td>...</td>\n",
       "    </tr>\n",
       "    <tr>\n",
       "      <th>12978</th>\n",
       "      <td>2021-07-16</td>\n",
       "      <td>1035920142843215874</td>\n",
       "      <td>capobianco2005c</td>\n",
       "      <td>Michele Capobianco</td>\n",
       "      <td>giorgiameloni belpietrotweet giusto rendiamo o...</td>\n",
       "      <td>[{'screen_name': 'immuni_app', 'name': 'immuni...</td>\n",
       "      <td>0</td>\n",
       "      <td>0</td>\n",
       "      <td>0</td>\n",
       "      <td>['immuniapp', 'contattostretto', 'positivo']</td>\n",
       "      <td>[{'screen_name': 'GiorgiaMeloni', 'name': 'Gio...</td>\n",
       "      <td>3</td>\n",
       "      <td>3</td>\n",
       "    </tr>\n",
       "    <tr>\n",
       "      <th>12979</th>\n",
       "      <td>2021-07-16</td>\n",
       "      <td>1035920142843215874</td>\n",
       "      <td>capobianco2005c</td>\n",
       "      <td>Michele Capobianco</td>\n",
       "      <td>update greenpass zoneacolori restrizioni lockd...</td>\n",
       "      <td>[]</td>\n",
       "      <td>0</td>\n",
       "      <td>0</td>\n",
       "      <td>0</td>\n",
       "      <td>['greenpass', 'zoneacolori', 'restrizioni', 'l...</td>\n",
       "      <td>[]</td>\n",
       "      <td>15</td>\n",
       "      <td>0</td>\n",
       "    </tr>\n",
       "    <tr>\n",
       "      <th>12980</th>\n",
       "      <td>2021-08-08</td>\n",
       "      <td>1006624848272154624</td>\n",
       "      <td>grossofanken</td>\n",
       "      <td>grossofanken</td>\n",
       "      <td>bel cashback ogni esibizione scaricato esclusi...</td>\n",
       "      <td>[]</td>\n",
       "      <td>1</td>\n",
       "      <td>0</td>\n",
       "      <td>0</td>\n",
       "      <td>['cashback', 'greenpassobbligatorio', 'immunia...</td>\n",
       "      <td>[]</td>\n",
       "      <td>3</td>\n",
       "      <td>0</td>\n",
       "    </tr>\n",
       "    <tr>\n",
       "      <th>12981</th>\n",
       "      <td>2021-08-29</td>\n",
       "      <td>1260497008986652678</td>\n",
       "      <td>lorech__</td>\n",
       "      <td>Lore</td>\n",
       "      <td>dino sbonaccini vede differenza problema grave...</td>\n",
       "      <td>[]</td>\n",
       "      <td>3</td>\n",
       "      <td>0</td>\n",
       "      <td>3</td>\n",
       "      <td>[]</td>\n",
       "      <td>[{'screen_name': 'Dino53084186', 'name': 'Dino...</td>\n",
       "      <td>0</td>\n",
       "      <td>2</td>\n",
       "    </tr>\n",
       "    <tr>\n",
       "      <th>12982</th>\n",
       "      <td>2021-12-31</td>\n",
       "      <td>866679978</td>\n",
       "      <td>fede2_4</td>\n",
       "      <td>Shadow</td>\n",
       "      <td>enricoletta cappellini serviva lockdownsubito ...</td>\n",
       "      <td>[]</td>\n",
       "      <td>1</td>\n",
       "      <td>0</td>\n",
       "      <td>0</td>\n",
       "      <td>['lockdownsubito', 'omicron', 'obbligovaccinal...</td>\n",
       "      <td>[{'screen_name': 'EnricoLetta', 'name': 'Enric...</td>\n",
       "      <td>5</td>\n",
       "      <td>2</td>\n",
       "    </tr>\n",
       "  </tbody>\n",
       "</table>\n",
       "<p>9784 rows × 13 columns</p>\n",
       "</div>"
      ],
      "text/plain": [
       "            date              user_id         username                name  \\\n",
       "0     2020-06-04            266910319    appleforyou83      Theappleforyou   \n",
       "1     2020-06-04           1092893394   annafornasetti             안나 ★彡𓂀🫒   \n",
       "2     2020-06-04           1092893394   annafornasetti             안나 ★彡𓂀🫒   \n",
       "3     2020-06-04  1267957495324172288        aleessi4m           alessia ✨   \n",
       "4     2020-06-04           1337280565          garboek         GabryKeegan   \n",
       "...          ...                  ...              ...                 ...   \n",
       "12978 2021-07-16  1035920142843215874  capobianco2005c  Michele Capobianco   \n",
       "12979 2021-07-16  1035920142843215874  capobianco2005c  Michele Capobianco   \n",
       "12980 2021-08-08  1006624848272154624     grossofanken        grossofanken   \n",
       "12981 2021-08-29  1260497008986652678         lorech__                Lore   \n",
       "12982 2021-12-31            866679978          fede2_4              Shadow   \n",
       "\n",
       "                                                   tweet  \\\n",
       "0           immuni app contenere contagi covid fase vers   \n",
       "1      valà piergianfranco lotta privacy chissà azion...   \n",
       "2      scaricate app immuni serve governo tracciarci ...   \n",
       "3      diegofusaro scusa attimo tieni così tanto priv...   \n",
       "4                        qualcuno adotti bambino appimmu   \n",
       "...                                                  ...   \n",
       "12978  giorgiameloni belpietrotweet giusto rendiamo o...   \n",
       "12979  update greenpass zoneacolori restrizioni lockd...   \n",
       "12980  bel cashback ogni esibizione scaricato esclusi...   \n",
       "12981  dino sbonaccini vede differenza problema grave...   \n",
       "12982  enricoletta cappellini serviva lockdownsubito ...   \n",
       "\n",
       "                                                mentions  replies_count  \\\n",
       "0                                                     []              0   \n",
       "1                                                     []              1   \n",
       "2                                                     []              1   \n",
       "3                                                     []              0   \n",
       "4                                                     []              0   \n",
       "...                                                  ...            ...   \n",
       "12978  [{'screen_name': 'immuni_app', 'name': 'immuni...              0   \n",
       "12979                                                 []              0   \n",
       "12980                                                 []              1   \n",
       "12981                                                 []              3   \n",
       "12982                                                 []              1   \n",
       "\n",
       "       retweets_count  likes_count  \\\n",
       "0                   0            0   \n",
       "1                   0            0   \n",
       "2                   0            4   \n",
       "3                   0            1   \n",
       "4                   0            2   \n",
       "...               ...          ...   \n",
       "12978               0            0   \n",
       "12979               0            0   \n",
       "12980               0            0   \n",
       "12981               0            3   \n",
       "12982               0            0   \n",
       "\n",
       "                                                hashtags  \\\n",
       "0                                                     []   \n",
       "1                                                     []   \n",
       "2                                                     []   \n",
       "3                                                     []   \n",
       "4                                          ['appimmuni']   \n",
       "...                                                  ...   \n",
       "12978       ['immuniapp', 'contattostretto', 'positivo']   \n",
       "12979  ['greenpass', 'zoneacolori', 'restrizioni', 'l...   \n",
       "12980  ['cashback', 'greenpassobbligatorio', 'immunia...   \n",
       "12981                                                 []   \n",
       "12982  ['lockdownsubito', 'omicron', 'obbligovaccinal...   \n",
       "\n",
       "                                                reply_to  hashtag_count  \\\n",
       "0                                                     []              0   \n",
       "1                                                     []              0   \n",
       "2                                                     []              0   \n",
       "3      [{'screen_name': 'DiegoFusaro', 'name': 'Diego...              0   \n",
       "4                                                     []              1   \n",
       "...                                                  ...            ...   \n",
       "12978  [{'screen_name': 'GiorgiaMeloni', 'name': 'Gio...              3   \n",
       "12979                                                 []             15   \n",
       "12980                                                 []              3   \n",
       "12981  [{'screen_name': 'Dino53084186', 'name': 'Dino...              0   \n",
       "12982  [{'screen_name': 'EnricoLetta', 'name': 'Enric...              5   \n",
       "\n",
       "       ment_count  \n",
       "0               0  \n",
       "1               0  \n",
       "2               0  \n",
       "3               1  \n",
       "4               0  \n",
       "...           ...  \n",
       "12978           3  \n",
       "12979           0  \n",
       "12980           0  \n",
       "12981           2  \n",
       "12982           2  \n",
       "\n",
       "[9784 rows x 13 columns]"
      ]
     },
     "execution_count": 44,
     "metadata": {},
     "output_type": "execute_result"
    }
   ],
   "source": [
    "df_final"
   ]
  },
  {
   "cell_type": "markdown",
   "id": "7399aaad",
   "metadata": {},
   "source": [
    "-----"
   ]
  },
  {
   "cell_type": "markdown",
   "id": "a17ac916",
   "metadata": {},
   "source": [
    "Salvo il df in formato csv"
   ]
  },
  {
   "cell_type": "code",
   "execution_count": 45,
   "id": "af50634d",
   "metadata": {},
   "outputs": [],
   "source": [
    "df_final.to_csv('dati/df_finale_2020_2021.csv')"
   ]
  }
 ],
 "metadata": {
  "kernelspec": {
   "display_name": "Python 3 (ipykernel)",
   "language": "python",
   "name": "python3"
  },
  "language_info": {
   "codemirror_mode": {
    "name": "ipython",
    "version": 3
   },
   "file_extension": ".py",
   "mimetype": "text/x-python",
   "name": "python",
   "nbconvert_exporter": "python",
   "pygments_lexer": "ipython3",
   "version": "3.9.7"
  }
 },
 "nbformat": 4,
 "nbformat_minor": 5
}
